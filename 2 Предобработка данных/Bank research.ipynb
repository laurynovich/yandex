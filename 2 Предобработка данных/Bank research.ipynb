{
 "cells": [
  {
   "cell_type": "markdown",
   "metadata": {},
   "source": [
    "<div style=\"border:solid purple 2px; padding: 20px\">\n",
    "\n",
    "Аня привет! 👋 Поздравляю с первым выполненным проектом 🙂\n",
    "    \n",
    "Меня зовут Рустам Муртазин, и я буду делать ревью проектной работы по предобработке данных. Давай будем общаться на **«ты»**. Если это неприемлемо, обязательно напиши мне в комментариях — мы перейдем на **«вы»**.\n",
    "\n",
    "Ты проделала большую работу над проектом, однако в любом деле всегда можно можно что-то улучшить. Моя основная цель — не показать, что где-то совершены какие-либо ошибки, а поделиться своим опытом, который поможет тебе в дальнейших работах. Далее в файле ты сможешь увидеть мои комментарии, постарайся учесть их при выполнении следующих заданий.    \n",
    "\n",
    "Обрати внимание в первую очередь на те, что помечаны <span style=\"color:red\">красным цветом</span>. После их доработки проект будет принят. <span style=\"color:green\">Зеленым цветом</span> отмечены удачные и элегантные решения, на которые можно опираться в будущих проектах. <span style=\"color:orange\">Оранжевым цветом</span> выделено то, что в следующий раз можно сделать по-другому. Ты можешь учесть эти комментарии при выполнении будущих заданий или доработать проект сейчас (однако это не обязательно).\n",
    "\n",
    "Давай работать над проектом в диалоге: если ты **что-то меняешь** в проекте по моим рекомендациям — **пиши об этом**. Выбери для своих комментариев какой-то заметный цвет, так мне будет легче отследить изменения. Пожалуйста, **не перемещай, не изменяй и не удаляй мои комментарии**. Всё это поможет выполнить повторную проверку твоего проекта оперативнее».\n",
    "\n",
    "У тебя получилась отличная работа, особенно для первого проекта. Ты показываешь прекрасное владение изучаемым материалом: уверенно пользуешься pandas, умеешь подготавливать, очищать, обогощать данные.  На протяжении всей работы чувствуется глубина проработки задачи и это безусловный плюс для нас.\n",
    "\n",
    "Как ни старался, критичных проблем я не нашел, ты точно готова идти дальше. Успехов в дальнейшем порхождении курса! 😊\n",
    "\n",
    "<div>"
   ]
  },
  {
   "cell_type": "markdown",
   "metadata": {},
   "source": [
    "## Исследование надёжности заёмщиков\n",
    "\n",
    "Заказчик — кредитный отдел банка. Нужно разобраться, влияет ли семейное положение и количество детей клиента на факт погашения кредита в срок. Входные данные от банка — статистика о платёжеспособности клиентов.\n",
    "\n",
    "Результаты исследования будут учтены при построении модели **кредитного скоринга** — специальной системы, которая оценивает способность потенциального заёмщика вернуть кредит банку."
   ]
  },
  {
   "cell_type": "markdown",
   "metadata": {},
   "source": [
    "### Шаг 1. Откройте файл с данными и изучите общую информацию. "
   ]
  },
  {
   "cell_type": "code",
   "execution_count": 27,
   "metadata": {},
   "outputs": [
    {
     "data": {
      "text/html": [
       "<div>\n",
       "<style scoped>\n",
       "    .dataframe tbody tr th:only-of-type {\n",
       "        vertical-align: middle;\n",
       "    }\n",
       "\n",
       "    .dataframe tbody tr th {\n",
       "        vertical-align: top;\n",
       "    }\n",
       "\n",
       "    .dataframe thead th {\n",
       "        text-align: right;\n",
       "    }\n",
       "</style>\n",
       "<table border=\"1\" class=\"dataframe\">\n",
       "  <thead>\n",
       "    <tr style=\"text-align: right;\">\n",
       "      <th></th>\n",
       "      <th>children</th>\n",
       "      <th>days_employed</th>\n",
       "      <th>dob_years</th>\n",
       "      <th>education</th>\n",
       "      <th>education_id</th>\n",
       "      <th>family_status</th>\n",
       "      <th>family_status_id</th>\n",
       "      <th>gender</th>\n",
       "      <th>income_type</th>\n",
       "      <th>debt</th>\n",
       "      <th>total_income</th>\n",
       "      <th>purpose</th>\n",
       "    </tr>\n",
       "  </thead>\n",
       "  <tbody>\n",
       "    <tr>\n",
       "      <th>0</th>\n",
       "      <td>1</td>\n",
       "      <td>-8437.67303</td>\n",
       "      <td>42</td>\n",
       "      <td>высшее</td>\n",
       "      <td>0</td>\n",
       "      <td>женат / замужем</td>\n",
       "      <td>0</td>\n",
       "      <td>F</td>\n",
       "      <td>сотрудник</td>\n",
       "      <td>0</td>\n",
       "      <td>253875.63945</td>\n",
       "      <td>покупка жилья</td>\n",
       "    </tr>\n",
       "    <tr>\n",
       "      <th>1</th>\n",
       "      <td>1</td>\n",
       "      <td>-4024.80375</td>\n",
       "      <td>36</td>\n",
       "      <td>среднее</td>\n",
       "      <td>1</td>\n",
       "      <td>женат / замужем</td>\n",
       "      <td>0</td>\n",
       "      <td>F</td>\n",
       "      <td>сотрудник</td>\n",
       "      <td>0</td>\n",
       "      <td>112080.01410</td>\n",
       "      <td>приобретение автомобиля</td>\n",
       "    </tr>\n",
       "    <tr>\n",
       "      <th>2</th>\n",
       "      <td>0</td>\n",
       "      <td>-5623.42261</td>\n",
       "      <td>33</td>\n",
       "      <td>Среднее</td>\n",
       "      <td>1</td>\n",
       "      <td>женат / замужем</td>\n",
       "      <td>0</td>\n",
       "      <td>M</td>\n",
       "      <td>сотрудник</td>\n",
       "      <td>0</td>\n",
       "      <td>145885.95230</td>\n",
       "      <td>покупка жилья</td>\n",
       "    </tr>\n",
       "    <tr>\n",
       "      <th>3</th>\n",
       "      <td>3</td>\n",
       "      <td>-4124.74721</td>\n",
       "      <td>32</td>\n",
       "      <td>среднее</td>\n",
       "      <td>1</td>\n",
       "      <td>женат / замужем</td>\n",
       "      <td>0</td>\n",
       "      <td>M</td>\n",
       "      <td>сотрудник</td>\n",
       "      <td>0</td>\n",
       "      <td>267628.55033</td>\n",
       "      <td>дополнительное образование</td>\n",
       "    </tr>\n",
       "    <tr>\n",
       "      <th>4</th>\n",
       "      <td>0</td>\n",
       "      <td>340266.07205</td>\n",
       "      <td>53</td>\n",
       "      <td>среднее</td>\n",
       "      <td>1</td>\n",
       "      <td>гражданский брак</td>\n",
       "      <td>1</td>\n",
       "      <td>F</td>\n",
       "      <td>пенсионер</td>\n",
       "      <td>0</td>\n",
       "      <td>158616.07787</td>\n",
       "      <td>сыграть свадьбу</td>\n",
       "    </tr>\n",
       "  </tbody>\n",
       "</table>\n",
       "</div>"
      ],
      "text/plain": [
       "   children  days_employed  dob_years education  education_id  \\\n",
       "0         1    -8437.67303         42    высшее             0   \n",
       "1         1    -4024.80375         36   среднее             1   \n",
       "2         0    -5623.42261         33   Среднее             1   \n",
       "3         3    -4124.74721         32   среднее             1   \n",
       "4         0   340266.07205         53   среднее             1   \n",
       "\n",
       "      family_status  family_status_id gender income_type  debt  total_income  \\\n",
       "0   женат / замужем                 0      F   сотрудник     0  253875.63945   \n",
       "1   женат / замужем                 0      F   сотрудник     0  112080.01410   \n",
       "2   женат / замужем                 0      M   сотрудник     0  145885.95230   \n",
       "3   женат / замужем                 0      M   сотрудник     0  267628.55033   \n",
       "4  гражданский брак                 1      F   пенсионер     0  158616.07787   \n",
       "\n",
       "                      purpose  \n",
       "0               покупка жилья  \n",
       "1     приобретение автомобиля  \n",
       "2               покупка жилья  \n",
       "3  дополнительное образование  \n",
       "4             сыграть свадьбу  "
      ]
     },
     "execution_count": 27,
     "metadata": {},
     "output_type": "execute_result"
    }
   ],
   "source": [
    "import pandas as pd\n",
    "data = pd.read_csv('/Users/makbook_hanna_lavrinovich/Documents/Яндекс Практикум/2 Предобработка данных/data.csv')\n",
    "#data = pd.read_csv('/datasets/data.csv')\n",
    "pd.set_option('display.float_format', lambda x: '%.5f' % x)\n",
    "data.head(5)"
   ]
  },
  {
   "cell_type": "markdown",
   "metadata": {},
   "source": [
    "Смотрю общую информацию:"
   ]
  },
  {
   "cell_type": "code",
   "execution_count": 28,
   "metadata": {},
   "outputs": [
    {
     "name": "stdout",
     "output_type": "stream",
     "text": [
      "<class 'pandas.core.frame.DataFrame'>\n",
      "RangeIndex: 21525 entries, 0 to 21524\n",
      "Data columns (total 12 columns):\n",
      " #   Column            Non-Null Count  Dtype  \n",
      "---  ------            --------------  -----  \n",
      " 0   children          21525 non-null  int64  \n",
      " 1   days_employed     19351 non-null  float64\n",
      " 2   dob_years         21525 non-null  int64  \n",
      " 3   education         21525 non-null  object \n",
      " 4   education_id      21525 non-null  int64  \n",
      " 5   family_status     21525 non-null  object \n",
      " 6   family_status_id  21525 non-null  int64  \n",
      " 7   gender            21525 non-null  object \n",
      " 8   income_type       21525 non-null  object \n",
      " 9   debt              21525 non-null  int64  \n",
      " 10  total_income      19351 non-null  float64\n",
      " 11  purpose           21525 non-null  object \n",
      "dtypes: float64(2), int64(5), object(5)\n",
      "memory usage: 2.0+ MB\n"
     ]
    }
   ],
   "source": [
    "data.info()"
   ]
  },
  {
   "cell_type": "code",
   "execution_count": 29,
   "metadata": {},
   "outputs": [
    {
     "data": {
      "text/html": [
       "<div>\n",
       "<style scoped>\n",
       "    .dataframe tbody tr th:only-of-type {\n",
       "        vertical-align: middle;\n",
       "    }\n",
       "\n",
       "    .dataframe tbody tr th {\n",
       "        vertical-align: top;\n",
       "    }\n",
       "\n",
       "    .dataframe thead th {\n",
       "        text-align: right;\n",
       "    }\n",
       "</style>\n",
       "<table border=\"1\" class=\"dataframe\">\n",
       "  <thead>\n",
       "    <tr style=\"text-align: right;\">\n",
       "      <th></th>\n",
       "      <th>children</th>\n",
       "      <th>days_employed</th>\n",
       "      <th>dob_years</th>\n",
       "      <th>education_id</th>\n",
       "      <th>family_status_id</th>\n",
       "      <th>debt</th>\n",
       "      <th>total_income</th>\n",
       "    </tr>\n",
       "  </thead>\n",
       "  <tbody>\n",
       "    <tr>\n",
       "      <th>count</th>\n",
       "      <td>21525.00000</td>\n",
       "      <td>19351.00000</td>\n",
       "      <td>21525.00000</td>\n",
       "      <td>21525.00000</td>\n",
       "      <td>21525.00000</td>\n",
       "      <td>21525.00000</td>\n",
       "      <td>19351.00000</td>\n",
       "    </tr>\n",
       "    <tr>\n",
       "      <th>mean</th>\n",
       "      <td>0.53891</td>\n",
       "      <td>63046.49766</td>\n",
       "      <td>43.29338</td>\n",
       "      <td>0.81724</td>\n",
       "      <td>0.97254</td>\n",
       "      <td>0.08088</td>\n",
       "      <td>167422.30221</td>\n",
       "    </tr>\n",
       "    <tr>\n",
       "      <th>std</th>\n",
       "      <td>1.38159</td>\n",
       "      <td>140827.31197</td>\n",
       "      <td>12.57458</td>\n",
       "      <td>0.54814</td>\n",
       "      <td>1.42032</td>\n",
       "      <td>0.27266</td>\n",
       "      <td>102971.56645</td>\n",
       "    </tr>\n",
       "    <tr>\n",
       "      <th>min</th>\n",
       "      <td>-1.00000</td>\n",
       "      <td>-18388.94990</td>\n",
       "      <td>0.00000</td>\n",
       "      <td>0.00000</td>\n",
       "      <td>0.00000</td>\n",
       "      <td>0.00000</td>\n",
       "      <td>20667.26379</td>\n",
       "    </tr>\n",
       "    <tr>\n",
       "      <th>25%</th>\n",
       "      <td>0.00000</td>\n",
       "      <td>-2747.42363</td>\n",
       "      <td>33.00000</td>\n",
       "      <td>1.00000</td>\n",
       "      <td>0.00000</td>\n",
       "      <td>0.00000</td>\n",
       "      <td>103053.15291</td>\n",
       "    </tr>\n",
       "    <tr>\n",
       "      <th>50%</th>\n",
       "      <td>0.00000</td>\n",
       "      <td>-1203.36953</td>\n",
       "      <td>42.00000</td>\n",
       "      <td>1.00000</td>\n",
       "      <td>0.00000</td>\n",
       "      <td>0.00000</td>\n",
       "      <td>145017.93753</td>\n",
       "    </tr>\n",
       "    <tr>\n",
       "      <th>75%</th>\n",
       "      <td>1.00000</td>\n",
       "      <td>-291.09595</td>\n",
       "      <td>53.00000</td>\n",
       "      <td>1.00000</td>\n",
       "      <td>1.00000</td>\n",
       "      <td>0.00000</td>\n",
       "      <td>203435.06766</td>\n",
       "    </tr>\n",
       "    <tr>\n",
       "      <th>max</th>\n",
       "      <td>20.00000</td>\n",
       "      <td>401755.40048</td>\n",
       "      <td>75.00000</td>\n",
       "      <td>4.00000</td>\n",
       "      <td>4.00000</td>\n",
       "      <td>1.00000</td>\n",
       "      <td>2265604.02872</td>\n",
       "    </tr>\n",
       "  </tbody>\n",
       "</table>\n",
       "</div>"
      ],
      "text/plain": [
       "         children  days_employed   dob_years  education_id  family_status_id  \\\n",
       "count 21525.00000    19351.00000 21525.00000   21525.00000       21525.00000   \n",
       "mean      0.53891    63046.49766    43.29338       0.81724           0.97254   \n",
       "std       1.38159   140827.31197    12.57458       0.54814           1.42032   \n",
       "min      -1.00000   -18388.94990     0.00000       0.00000           0.00000   \n",
       "25%       0.00000    -2747.42363    33.00000       1.00000           0.00000   \n",
       "50%       0.00000    -1203.36953    42.00000       1.00000           0.00000   \n",
       "75%       1.00000     -291.09595    53.00000       1.00000           1.00000   \n",
       "max      20.00000   401755.40048    75.00000       4.00000           4.00000   \n",
       "\n",
       "             debt  total_income  \n",
       "count 21525.00000   19351.00000  \n",
       "mean      0.08088  167422.30221  \n",
       "std       0.27266  102971.56645  \n",
       "min       0.00000   20667.26379  \n",
       "25%       0.00000  103053.15291  \n",
       "50%       0.00000  145017.93753  \n",
       "75%       0.00000  203435.06766  \n",
       "max       1.00000 2265604.02872  "
      ]
     },
     "execution_count": 29,
     "metadata": {},
     "output_type": "execute_result"
    }
   ],
   "source": [
    "data.describe()"
   ]
  },
  {
   "cell_type": "markdown",
   "metadata": {},
   "source": [
    "### Вывод"
   ]
  },
  {
   "cell_type": "markdown",
   "metadata": {},
   "source": [
    "По общей информации о данных становится понятно следующее:\n",
    "\n",
    "* Как минимум в 2 колонках есть пропуски в данных - это total_income и days_employed. Не все желают делиться данными о своих доходах, даже с банком :)\n",
    "* В колонке days_employed есть отрицательные и аномально большие значения. Это может значить, что даты принятия на работу были указаны неверно, либо неподходящим образом для методологии вычисления этого поля(например, сначала дата увольнения, потом дата приёма на работу).\n",
    "* Есть записи, у которых значение в колонке children - отрицательные. Это тоже можно рассматривать по разному - либо как ошибку ввода, либо как \"тире 1\". Чтобы сделать какие-то более конкретные выводы, необходимо изучить данные в остальных колонках для этих строк. Так же подозрительно выглядит значение children = 20\n",
    "* Есть значение 0 в колонке возраст - часть клиентов не указала свой возраст (0.4%). Так как в задаче не стоит прямой вопрос о влиянии непосредственно возраста, то оставлю эти записи как есть, потому что для них есть данные в других столбцах, которые важны для ответа на поставленные вопросы.\n",
    "* В колонках education и purpose содержаться категории, одинаковые по смыслу, но не идентичные по написанию. Нужно выделить общие категории и применить их ко всему набору данных.\n",
    "* В колонке gender присутствует 1 пропуск. Так как в задаче не стоит прямой вопрос о влиянии непосредственно пола, то оставлю эту запись как есть.\n",
    "\n"
   ]
  },
  {
   "cell_type": "markdown",
   "metadata": {},
   "source": [
    "### Шаг 2. Предобработка данных"
   ]
  },
  {
   "cell_type": "markdown",
   "metadata": {},
   "source": [
    "### Обработка пропусков"
   ]
  },
  {
   "cell_type": "markdown",
   "metadata": {},
   "source": [
    "Из предыдущего шага я знаю, что пропуски содержатся в колонках days_employed и total_income.\n",
    "Выделю значения с пропущенным days_employed в отдельный датафрейм и проверю, что в него попали все значения с пропущенным total_income (так как предполагаю, что эти пропуски связаны)."
   ]
  },
  {
   "cell_type": "code",
   "execution_count": 30,
   "metadata": {},
   "outputs": [],
   "source": [
    "unemployed = data[data['days_employed'].isnull()== True]"
   ]
  },
  {
   "cell_type": "code",
   "execution_count": 31,
   "metadata": {},
   "outputs": [
    {
     "data": {
      "text/html": [
       "<div>\n",
       "<style scoped>\n",
       "    .dataframe tbody tr th:only-of-type {\n",
       "        vertical-align: middle;\n",
       "    }\n",
       "\n",
       "    .dataframe tbody tr th {\n",
       "        vertical-align: top;\n",
       "    }\n",
       "\n",
       "    .dataframe thead th {\n",
       "        text-align: right;\n",
       "    }\n",
       "</style>\n",
       "<table border=\"1\" class=\"dataframe\">\n",
       "  <thead>\n",
       "    <tr style=\"text-align: right;\">\n",
       "      <th></th>\n",
       "      <th>children</th>\n",
       "      <th>days_employed</th>\n",
       "      <th>dob_years</th>\n",
       "      <th>education</th>\n",
       "      <th>education_id</th>\n",
       "      <th>family_status</th>\n",
       "      <th>family_status_id</th>\n",
       "      <th>gender</th>\n",
       "      <th>income_type</th>\n",
       "      <th>debt</th>\n",
       "      <th>total_income</th>\n",
       "      <th>purpose</th>\n",
       "    </tr>\n",
       "  </thead>\n",
       "  <tbody>\n",
       "  </tbody>\n",
       "</table>\n",
       "</div>"
      ],
      "text/plain": [
       "Empty DataFrame\n",
       "Columns: [children, days_employed, dob_years, education, education_id, family_status, family_status_id, gender, income_type, debt, total_income, purpose]\n",
       "Index: []"
      ]
     },
     "execution_count": 31,
     "metadata": {},
     "output_type": "execute_result"
    }
   ],
   "source": [
    "unemployed[unemployed['total_income'].isnull() == False] "
   ]
  },
  {
   "cell_type": "markdown",
   "metadata": {},
   "source": [
    "Посчитаю % данных с пропусками от всех данных:"
   ]
  },
  {
   "cell_type": "code",
   "execution_count": 32,
   "metadata": {},
   "outputs": [
    {
     "name": "stdout",
     "output_type": "stream",
     "text": [
      "10.1%\n"
     ]
    }
   ],
   "source": [
    "print('{:.1%}'.format(len(unemployed)/len(data)))"
   ]
  },
  {
   "cell_type": "markdown",
   "metadata": {},
   "source": [
    "% пропуска достаточно велик, поэтому нельзя удалить эти записи. Буду заменять их медианным значением, рассчитанным для каждого различного типа дохода (чтобы разделить все данные на группы и получить медианы, более точно описывающие группу).\n",
    "\n",
    "Перед тем, как считать медианы, изучим данные в соотвествующих столбцах.\n",
    "\n",
    "Из предыдущего шага видно,что данные столбца total_income не имеют каких-то аномальных значений, которые бы бросались в глаза.\n",
    "\n",
    "А вот с колонкой days_employed предварительно придется поработать."
   ]
  },
  {
   "cell_type": "code",
   "execution_count": 33,
   "metadata": {},
   "outputs": [
    {
     "data": {
      "image/png": "[encoded data removed]",
      "text/plain": [
       "<Figure size 432x288 with 1 Axes>"
      ]
     },
     "metadata": {
      "needs_background": "light"
     },
     "output_type": "display_data"
    }
   ],
   "source": [
    "data.hist(column='days_employed');"
   ]
  },
  {
   "cell_type": "markdown",
   "metadata": {},
   "source": [
    "<div class=\"alert alert-warning\">\n",
    "<h2> Комментарий ревьюера </h2>\n",
    "\n",
    "Молодец, что визуализируешь данные, однако не забывай указывать заголовки и названия осей на графиках. Это необходимо для того, чтобы понять какие именно показатели отображены на графиках.\n",
    "\n",
    "</div>"
   ]
  },
  {
   "cell_type": "markdown",
   "metadata": {},
   "source": [
    "<div class=\"alert alert-warning\">\n",
    "<h2> Комментарий ревьюера </h2>\n",
    "\n",
    "Для того, чтобы не показывать вспомогательные выводы python типа `<matplotlib.axes._subplots.AxesSubplot at 0x7f5feaf7fc90>`, можно в конце строки добавить точку с запятой или `plt.show()` 😉\n",
    "\n",
    "</div>"
   ]
  },
  {
   "cell_type": "markdown",
   "metadata": {},
   "source": [
    "На гистограмме можно увидеть 2 проблемы с данными в столбце days_employed:\n",
    "* Присутствуют аномально большие значения (более 800 лет трудового стажа)\n",
    "* Имеются отрицательные значения\n",
    "\n",
    "Сначала смотрю на данные с аномально большими значениями:"
   ]
  },
  {
   "cell_type": "code",
   "execution_count": 34,
   "metadata": {},
   "outputs": [
    {
     "data": {
      "text/html": [
       "<div>\n",
       "<style scoped>\n",
       "    .dataframe tbody tr th:only-of-type {\n",
       "        vertical-align: middle;\n",
       "    }\n",
       "\n",
       "    .dataframe tbody tr th {\n",
       "        vertical-align: top;\n",
       "    }\n",
       "\n",
       "    .dataframe thead th {\n",
       "        text-align: right;\n",
       "    }\n",
       "</style>\n",
       "<table border=\"1\" class=\"dataframe\">\n",
       "  <thead>\n",
       "    <tr style=\"text-align: right;\">\n",
       "      <th></th>\n",
       "      <th>children</th>\n",
       "      <th>days_employed</th>\n",
       "      <th>dob_years</th>\n",
       "      <th>education</th>\n",
       "      <th>education_id</th>\n",
       "      <th>family_status</th>\n",
       "      <th>family_status_id</th>\n",
       "      <th>gender</th>\n",
       "      <th>income_type</th>\n",
       "      <th>debt</th>\n",
       "      <th>total_income</th>\n",
       "      <th>purpose</th>\n",
       "    </tr>\n",
       "  </thead>\n",
       "  <tbody>\n",
       "    <tr>\n",
       "      <th>4</th>\n",
       "      <td>0</td>\n",
       "      <td>340266.07205</td>\n",
       "      <td>53</td>\n",
       "      <td>среднее</td>\n",
       "      <td>1</td>\n",
       "      <td>гражданский брак</td>\n",
       "      <td>1</td>\n",
       "      <td>F</td>\n",
       "      <td>пенсионер</td>\n",
       "      <td>0</td>\n",
       "      <td>158616.07787</td>\n",
       "      <td>сыграть свадьбу</td>\n",
       "    </tr>\n",
       "    <tr>\n",
       "      <th>18</th>\n",
       "      <td>0</td>\n",
       "      <td>400281.13691</td>\n",
       "      <td>53</td>\n",
       "      <td>среднее</td>\n",
       "      <td>1</td>\n",
       "      <td>вдовец / вдова</td>\n",
       "      <td>2</td>\n",
       "      <td>F</td>\n",
       "      <td>пенсионер</td>\n",
       "      <td>0</td>\n",
       "      <td>56823.77724</td>\n",
       "      <td>на покупку подержанного автомобиля</td>\n",
       "    </tr>\n",
       "    <tr>\n",
       "      <th>24</th>\n",
       "      <td>1</td>\n",
       "      <td>338551.95291</td>\n",
       "      <td>57</td>\n",
       "      <td>среднее</td>\n",
       "      <td>1</td>\n",
       "      <td>Не женат / не замужем</td>\n",
       "      <td>4</td>\n",
       "      <td>F</td>\n",
       "      <td>пенсионер</td>\n",
       "      <td>0</td>\n",
       "      <td>290547.23600</td>\n",
       "      <td>операции с коммерческой недвижимостью</td>\n",
       "    </tr>\n",
       "    <tr>\n",
       "      <th>25</th>\n",
       "      <td>0</td>\n",
       "      <td>363548.48935</td>\n",
       "      <td>67</td>\n",
       "      <td>среднее</td>\n",
       "      <td>1</td>\n",
       "      <td>женат / замужем</td>\n",
       "      <td>0</td>\n",
       "      <td>M</td>\n",
       "      <td>пенсионер</td>\n",
       "      <td>0</td>\n",
       "      <td>55112.75773</td>\n",
       "      <td>покупка недвижимости</td>\n",
       "    </tr>\n",
       "    <tr>\n",
       "      <th>30</th>\n",
       "      <td>1</td>\n",
       "      <td>335581.66851</td>\n",
       "      <td>62</td>\n",
       "      <td>среднее</td>\n",
       "      <td>1</td>\n",
       "      <td>женат / замужем</td>\n",
       "      <td>0</td>\n",
       "      <td>F</td>\n",
       "      <td>пенсионер</td>\n",
       "      <td>0</td>\n",
       "      <td>171456.06799</td>\n",
       "      <td>операции с коммерческой недвижимостью</td>\n",
       "    </tr>\n",
       "    <tr>\n",
       "      <th>...</th>\n",
       "      <td>...</td>\n",
       "      <td>...</td>\n",
       "      <td>...</td>\n",
       "      <td>...</td>\n",
       "      <td>...</td>\n",
       "      <td>...</td>\n",
       "      <td>...</td>\n",
       "      <td>...</td>\n",
       "      <td>...</td>\n",
       "      <td>...</td>\n",
       "      <td>...</td>\n",
       "      <td>...</td>\n",
       "    </tr>\n",
       "    <tr>\n",
       "      <th>21505</th>\n",
       "      <td>0</td>\n",
       "      <td>338904.86641</td>\n",
       "      <td>53</td>\n",
       "      <td>среднее</td>\n",
       "      <td>1</td>\n",
       "      <td>гражданский брак</td>\n",
       "      <td>1</td>\n",
       "      <td>M</td>\n",
       "      <td>пенсионер</td>\n",
       "      <td>0</td>\n",
       "      <td>75439.99317</td>\n",
       "      <td>сыграть свадьбу</td>\n",
       "    </tr>\n",
       "    <tr>\n",
       "      <th>21508</th>\n",
       "      <td>0</td>\n",
       "      <td>386497.71408</td>\n",
       "      <td>62</td>\n",
       "      <td>среднее</td>\n",
       "      <td>1</td>\n",
       "      <td>женат / замужем</td>\n",
       "      <td>0</td>\n",
       "      <td>M</td>\n",
       "      <td>пенсионер</td>\n",
       "      <td>0</td>\n",
       "      <td>72638.59092</td>\n",
       "      <td>недвижимость</td>\n",
       "    </tr>\n",
       "    <tr>\n",
       "      <th>21509</th>\n",
       "      <td>0</td>\n",
       "      <td>362161.05412</td>\n",
       "      <td>59</td>\n",
       "      <td>высшее</td>\n",
       "      <td>0</td>\n",
       "      <td>женат / замужем</td>\n",
       "      <td>0</td>\n",
       "      <td>M</td>\n",
       "      <td>пенсионер</td>\n",
       "      <td>0</td>\n",
       "      <td>73029.05938</td>\n",
       "      <td>операции с недвижимостью</td>\n",
       "    </tr>\n",
       "    <tr>\n",
       "      <th>21518</th>\n",
       "      <td>0</td>\n",
       "      <td>373995.71084</td>\n",
       "      <td>59</td>\n",
       "      <td>СРЕДНЕЕ</td>\n",
       "      <td>1</td>\n",
       "      <td>женат / замужем</td>\n",
       "      <td>0</td>\n",
       "      <td>F</td>\n",
       "      <td>пенсионер</td>\n",
       "      <td>0</td>\n",
       "      <td>153864.65033</td>\n",
       "      <td>сделка с автомобилем</td>\n",
       "    </tr>\n",
       "    <tr>\n",
       "      <th>21521</th>\n",
       "      <td>0</td>\n",
       "      <td>343937.40413</td>\n",
       "      <td>67</td>\n",
       "      <td>среднее</td>\n",
       "      <td>1</td>\n",
       "      <td>женат / замужем</td>\n",
       "      <td>0</td>\n",
       "      <td>F</td>\n",
       "      <td>пенсионер</td>\n",
       "      <td>0</td>\n",
       "      <td>155999.80651</td>\n",
       "      <td>сделка с автомобилем</td>\n",
       "    </tr>\n",
       "  </tbody>\n",
       "</table>\n",
       "<p>3445 rows × 12 columns</p>\n",
       "</div>"
      ],
      "text/plain": [
       "       children  days_employed  dob_years education  education_id  \\\n",
       "4             0   340266.07205         53   среднее             1   \n",
       "18            0   400281.13691         53   среднее             1   \n",
       "24            1   338551.95291         57   среднее             1   \n",
       "25            0   363548.48935         67   среднее             1   \n",
       "30            1   335581.66851         62   среднее             1   \n",
       "...         ...            ...        ...       ...           ...   \n",
       "21505         0   338904.86641         53   среднее             1   \n",
       "21508         0   386497.71408         62   среднее             1   \n",
       "21509         0   362161.05412         59    высшее             0   \n",
       "21518         0   373995.71084         59   СРЕДНЕЕ             1   \n",
       "21521         0   343937.40413         67   среднее             1   \n",
       "\n",
       "               family_status  family_status_id gender income_type  debt  \\\n",
       "4           гражданский брак                 1      F   пенсионер     0   \n",
       "18            вдовец / вдова                 2      F   пенсионер     0   \n",
       "24     Не женат / не замужем                 4      F   пенсионер     0   \n",
       "25           женат / замужем                 0      M   пенсионер     0   \n",
       "30           женат / замужем                 0      F   пенсионер     0   \n",
       "...                      ...               ...    ...         ...   ...   \n",
       "21505       гражданский брак                 1      M   пенсионер     0   \n",
       "21508        женат / замужем                 0      M   пенсионер     0   \n",
       "21509        женат / замужем                 0      M   пенсионер     0   \n",
       "21518        женат / замужем                 0      F   пенсионер     0   \n",
       "21521        женат / замужем                 0      F   пенсионер     0   \n",
       "\n",
       "       total_income                                purpose  \n",
       "4      158616.07787                        сыграть свадьбу  \n",
       "18      56823.77724     на покупку подержанного автомобиля  \n",
       "24     290547.23600  операции с коммерческой недвижимостью  \n",
       "25      55112.75773                   покупка недвижимости  \n",
       "30     171456.06799  операции с коммерческой недвижимостью  \n",
       "...             ...                                    ...  \n",
       "21505   75439.99317                        сыграть свадьбу  \n",
       "21508   72638.59092                           недвижимость  \n",
       "21509   73029.05938               операции с недвижимостью  \n",
       "21518  153864.65033                   сделка с автомобилем  \n",
       "21521  155999.80651                   сделка с автомобилем  \n",
       "\n",
       "[3445 rows x 12 columns]"
      ]
     },
     "execution_count": 34,
     "metadata": {},
     "output_type": "execute_result"
    }
   ],
   "source": [
    "data[data['days_employed'] > 300000]"
   ]
  },
  {
   "cell_type": "code",
   "execution_count": 35,
   "metadata": {},
   "outputs": [
    {
     "data": {
      "text/plain": [
       "array(['пенсионер', 'безработный'], dtype=object)"
      ]
     },
     "execution_count": 35,
     "metadata": {},
     "output_type": "execute_result"
    }
   ],
   "source": [
    "data[data['days_employed'] > 300000]['income_type'].unique()"
   ]
  },
  {
   "cell_type": "markdown",
   "metadata": {},
   "source": [
    "Интересный факт, что подобные данные встречаются только для следующих типов занятости: пенсионер и безработный.\n",
    "    \n",
    "Проверю, есть ли данные других порядков для этих типов занятости, чтобы подтвердить свою гипотезу о том, что аномалии характерны именно для этих 2 категорий граждан."
   ]
  },
  {
   "cell_type": "code",
   "execution_count": 36,
   "metadata": {},
   "outputs": [
    {
     "data": {
      "text/plain": [
       "array(['сотрудник', 'компаньон', 'госслужащий', 'студент',\n",
       "       'предприниматель', 'в декрете'], dtype=object)"
      ]
     },
     "execution_count": 36,
     "metadata": {},
     "output_type": "execute_result"
    }
   ],
   "source": [
    "data[data['days_employed'] < 300000]['income_type'].unique()"
   ]
  },
  {
   "cell_type": "markdown",
   "metadata": {},
   "source": [
    "Ура, первая гипотеза подтвердилась.\n",
    "\n",
    "У меня есть предположение, что значения такие большие для этих 2 категорий граждан, потому что стаж тут указан не в часах, а в минутах. Попробую перевести его из часов (по моему предположению) в годы и посмотрю на результаты:\n",
    "\n",
    "1. Добавлю колонку years_employed, которая будет содержать стаж в годах из предположения, что в колонке days_employed он отображается в часах\n",
    "\n",
    "2. Сравню полученный стаж с возрастом, чтобы оценить правдивость гипотезы"
   ]
  },
  {
   "cell_type": "code",
   "execution_count": 37,
   "metadata": {},
   "outputs": [],
   "source": [
    "test = data[data['days_employed'] > 300000].reset_index()\n",
    "test['years_employed'] = test['days_employed']/(24*365)\n",
    "test['working_age'] = test['years_employed'] - test['dob_years']"
   ]
  },
  {
   "cell_type": "markdown",
   "metadata": {},
   "source": [
    "<div class=\"alert alert-warning\">\n",
    "<h2> Комментарий ревьюера </h2>\n",
    "\n",
    "При выполнении ячейки выше выходит предупреждение `SettingWithCopyWarning: A value is trying to be set on a copy of a slice from a DataFrame`, подсвеченное розовым цветом (а значит, оно важно для качества кода). Дело в том, что при вычислении новых столбцов используется цепное индексирование (т.е функция выполняется для каждого индекса), а в твоем случае, датафрейм имеет непоследовательную индексацию. Решить проблему позволит:\n",
    "- сбрасывание индексов датафрейма, можно использовать [reset_index](https://pandas.pydata.org/pandas-docs/stable/reference/api/pandas.DataFrame.reset_index.html)\n",
    "- использование [loc](https://pandas.pydata.org/pandas-docs/stable/reference/api/pandas.DataFrame.loc.html) и [iloc](https://pandas.pydata.org/pandas-docs/stable/reference/api/pandas.DataFrame.iloc.html)\n",
    "- можно отключить данное предупреждение прописав `pd.options.mode.chained_assignment = None` перед исполненем ячейки 😉\n",
    "\n",
    "</div>"
   ]
  },
  {
   "cell_type": "code",
   "execution_count": 38,
   "metadata": {},
   "outputs": [
    {
     "data": {
      "text/html": [
       "<div>\n",
       "<style scoped>\n",
       "    .dataframe tbody tr th:only-of-type {\n",
       "        vertical-align: middle;\n",
       "    }\n",
       "\n",
       "    .dataframe tbody tr th {\n",
       "        vertical-align: top;\n",
       "    }\n",
       "\n",
       "    .dataframe thead th {\n",
       "        text-align: right;\n",
       "    }\n",
       "</style>\n",
       "<table border=\"1\" class=\"dataframe\">\n",
       "  <thead>\n",
       "    <tr style=\"text-align: right;\">\n",
       "      <th></th>\n",
       "      <th>index</th>\n",
       "      <th>children</th>\n",
       "      <th>days_employed</th>\n",
       "      <th>dob_years</th>\n",
       "      <th>education</th>\n",
       "      <th>education_id</th>\n",
       "      <th>family_status</th>\n",
       "      <th>family_status_id</th>\n",
       "      <th>gender</th>\n",
       "      <th>income_type</th>\n",
       "      <th>debt</th>\n",
       "      <th>total_income</th>\n",
       "      <th>purpose</th>\n",
       "      <th>years_employed</th>\n",
       "      <th>working_age</th>\n",
       "    </tr>\n",
       "  </thead>\n",
       "  <tbody>\n",
       "    <tr>\n",
       "      <th>0</th>\n",
       "      <td>4</td>\n",
       "      <td>0</td>\n",
       "      <td>340266.07205</td>\n",
       "      <td>53</td>\n",
       "      <td>среднее</td>\n",
       "      <td>1</td>\n",
       "      <td>гражданский брак</td>\n",
       "      <td>1</td>\n",
       "      <td>F</td>\n",
       "      <td>пенсионер</td>\n",
       "      <td>0</td>\n",
       "      <td>158616.07787</td>\n",
       "      <td>сыграть свадьбу</td>\n",
       "      <td>38.84316</td>\n",
       "      <td>-14.15684</td>\n",
       "    </tr>\n",
       "    <tr>\n",
       "      <th>1</th>\n",
       "      <td>18</td>\n",
       "      <td>0</td>\n",
       "      <td>400281.13691</td>\n",
       "      <td>53</td>\n",
       "      <td>среднее</td>\n",
       "      <td>1</td>\n",
       "      <td>вдовец / вдова</td>\n",
       "      <td>2</td>\n",
       "      <td>F</td>\n",
       "      <td>пенсионер</td>\n",
       "      <td>0</td>\n",
       "      <td>56823.77724</td>\n",
       "      <td>на покупку подержанного автомобиля</td>\n",
       "      <td>45.69419</td>\n",
       "      <td>-7.30581</td>\n",
       "    </tr>\n",
       "    <tr>\n",
       "      <th>2</th>\n",
       "      <td>24</td>\n",
       "      <td>1</td>\n",
       "      <td>338551.95291</td>\n",
       "      <td>57</td>\n",
       "      <td>среднее</td>\n",
       "      <td>1</td>\n",
       "      <td>Не женат / не замужем</td>\n",
       "      <td>4</td>\n",
       "      <td>F</td>\n",
       "      <td>пенсионер</td>\n",
       "      <td>0</td>\n",
       "      <td>290547.23600</td>\n",
       "      <td>операции с коммерческой недвижимостью</td>\n",
       "      <td>38.64748</td>\n",
       "      <td>-18.35252</td>\n",
       "    </tr>\n",
       "    <tr>\n",
       "      <th>3</th>\n",
       "      <td>25</td>\n",
       "      <td>0</td>\n",
       "      <td>363548.48935</td>\n",
       "      <td>67</td>\n",
       "      <td>среднее</td>\n",
       "      <td>1</td>\n",
       "      <td>женат / замужем</td>\n",
       "      <td>0</td>\n",
       "      <td>M</td>\n",
       "      <td>пенсионер</td>\n",
       "      <td>0</td>\n",
       "      <td>55112.75773</td>\n",
       "      <td>покупка недвижимости</td>\n",
       "      <td>41.50097</td>\n",
       "      <td>-25.49903</td>\n",
       "    </tr>\n",
       "    <tr>\n",
       "      <th>4</th>\n",
       "      <td>30</td>\n",
       "      <td>1</td>\n",
       "      <td>335581.66851</td>\n",
       "      <td>62</td>\n",
       "      <td>среднее</td>\n",
       "      <td>1</td>\n",
       "      <td>женат / замужем</td>\n",
       "      <td>0</td>\n",
       "      <td>F</td>\n",
       "      <td>пенсионер</td>\n",
       "      <td>0</td>\n",
       "      <td>171456.06799</td>\n",
       "      <td>операции с коммерческой недвижимостью</td>\n",
       "      <td>38.30841</td>\n",
       "      <td>-23.69159</td>\n",
       "    </tr>\n",
       "  </tbody>\n",
       "</table>\n",
       "</div>"
      ],
      "text/plain": [
       "   index  children  days_employed  dob_years education  education_id  \\\n",
       "0      4         0   340266.07205         53   среднее             1   \n",
       "1     18         0   400281.13691         53   среднее             1   \n",
       "2     24         1   338551.95291         57   среднее             1   \n",
       "3     25         0   363548.48935         67   среднее             1   \n",
       "4     30         1   335581.66851         62   среднее             1   \n",
       "\n",
       "           family_status  family_status_id gender income_type  debt  \\\n",
       "0       гражданский брак                 1      F   пенсионер     0   \n",
       "1         вдовец / вдова                 2      F   пенсионер     0   \n",
       "2  Не женат / не замужем                 4      F   пенсионер     0   \n",
       "3        женат / замужем                 0      M   пенсионер     0   \n",
       "4        женат / замужем                 0      F   пенсионер     0   \n",
       "\n",
       "   total_income                                purpose  years_employed  \\\n",
       "0  158616.07787                        сыграть свадьбу        38.84316   \n",
       "1   56823.77724     на покупку подержанного автомобиля        45.69419   \n",
       "2  290547.23600  операции с коммерческой недвижимостью        38.64748   \n",
       "3   55112.75773                   покупка недвижимости        41.50097   \n",
       "4  171456.06799  операции с коммерческой недвижимостью        38.30841   \n",
       "\n",
       "   working_age  \n",
       "0    -14.15684  \n",
       "1     -7.30581  \n",
       "2    -18.35252  \n",
       "3    -25.49903  \n",
       "4    -23.69159  "
      ]
     },
     "execution_count": 38,
     "metadata": {},
     "output_type": "execute_result"
    }
   ],
   "source": [
    "test.head(5)"
   ]
  },
  {
   "cell_type": "markdown",
   "metadata": {},
   "source": [
    "Вижу, что гипотеза об отображении рабочего стажа в часах для безработных и пенсионеров оказалась неверной: полученный при таком предположении стаж превышает возраст.\n",
    "\n",
    "Других гипотез возникновений аномалий у меня нет, поэтому принимаю решение оставить эти значения такими: да, они очень велики, то только для 2 определенных типов занятости, которые не содержат не аномально большие значения. То есть буду просто считать, что для них стаж указан в каких-то неизвестных мне единицах измерения. Но так как он характерен для этих двух типов занятости, большие медианные значения для них не повлияют на медианы для других типов занятости и не исказят их.\n",
    "\n",
    "Теперь посмотрим на отрицательные значения в столбце days_employed. Есть гипотеза, что так вышло из-за того, что даты начала и конца трудового стажа указаны были в неправильном порядке и поэтому при вычислении длительности стажа в днях образовались отрицательные значения.\n",
    "Они могут повлиять на медианные значения. Поэтому перед тем, как сделать какие-то расчеты, нужно избавиться от отрицательного стажа, если это возможно.\n",
    "\n",
    "Чтобы проверить свою гипотезу о возникновении трудового стажа, я проверю доход в таких записях. Если он не отрицательный и не нулевой, заменю отрицательный стаж на его значение по модулю."
   ]
  },
  {
   "cell_type": "code",
   "execution_count": 39,
   "metadata": {},
   "outputs": [
    {
     "data": {
      "text/html": [
       "<div>\n",
       "<style scoped>\n",
       "    .dataframe tbody tr th:only-of-type {\n",
       "        vertical-align: middle;\n",
       "    }\n",
       "\n",
       "    .dataframe tbody tr th {\n",
       "        vertical-align: top;\n",
       "    }\n",
       "\n",
       "    .dataframe thead th {\n",
       "        text-align: right;\n",
       "    }\n",
       "</style>\n",
       "<table border=\"1\" class=\"dataframe\">\n",
       "  <thead>\n",
       "    <tr style=\"text-align: right;\">\n",
       "      <th></th>\n",
       "      <th>children</th>\n",
       "      <th>days_employed</th>\n",
       "      <th>dob_years</th>\n",
       "      <th>education_id</th>\n",
       "      <th>family_status_id</th>\n",
       "      <th>debt</th>\n",
       "      <th>total_income</th>\n",
       "    </tr>\n",
       "  </thead>\n",
       "  <tbody>\n",
       "    <tr>\n",
       "      <th>count</th>\n",
       "      <td>15906.00000</td>\n",
       "      <td>15906.00000</td>\n",
       "      <td>15906.00000</td>\n",
       "      <td>15906.00000</td>\n",
       "      <td>15906.00000</td>\n",
       "      <td>15906.00000</td>\n",
       "      <td>15906.00000</td>\n",
       "    </tr>\n",
       "    <tr>\n",
       "      <th>mean</th>\n",
       "      <td>0.62599</td>\n",
       "      <td>-2353.01593</td>\n",
       "      <td>39.81824</td>\n",
       "      <td>0.79838</td>\n",
       "      <td>0.96963</td>\n",
       "      <td>0.08733</td>\n",
       "      <td>173984.43519</td>\n",
       "    </tr>\n",
       "    <tr>\n",
       "      <th>std</th>\n",
       "      <td>1.43057</td>\n",
       "      <td>2304.24385</td>\n",
       "      <td>10.66317</td>\n",
       "      <td>0.55484</td>\n",
       "      <td>1.44226</td>\n",
       "      <td>0.28232</td>\n",
       "      <td>106130.29174</td>\n",
       "    </tr>\n",
       "    <tr>\n",
       "      <th>min</th>\n",
       "      <td>-1.00000</td>\n",
       "      <td>-18388.94990</td>\n",
       "      <td>0.00000</td>\n",
       "      <td>0.00000</td>\n",
       "      <td>0.00000</td>\n",
       "      <td>0.00000</td>\n",
       "      <td>21367.64836</td>\n",
       "    </tr>\n",
       "    <tr>\n",
       "      <th>25%</th>\n",
       "      <td>0.00000</td>\n",
       "      <td>-3157.48008</td>\n",
       "      <td>32.00000</td>\n",
       "      <td>0.00000</td>\n",
       "      <td>0.00000</td>\n",
       "      <td>0.00000</td>\n",
       "      <td>108271.34329</td>\n",
       "    </tr>\n",
       "    <tr>\n",
       "      <th>50%</th>\n",
       "      <td>0.00000</td>\n",
       "      <td>-1630.01938</td>\n",
       "      <td>39.00000</td>\n",
       "      <td>1.00000</td>\n",
       "      <td>0.00000</td>\n",
       "      <td>0.00000</td>\n",
       "      <td>151134.59348</td>\n",
       "    </tr>\n",
       "    <tr>\n",
       "      <th>75%</th>\n",
       "      <td>1.00000</td>\n",
       "      <td>-756.37196</td>\n",
       "      <td>48.00000</td>\n",
       "      <td>1.00000</td>\n",
       "      <td>1.00000</td>\n",
       "      <td>0.00000</td>\n",
       "      <td>211494.41556</td>\n",
       "    </tr>\n",
       "    <tr>\n",
       "      <th>max</th>\n",
       "      <td>20.00000</td>\n",
       "      <td>-24.14163</td>\n",
       "      <td>75.00000</td>\n",
       "      <td>4.00000</td>\n",
       "      <td>4.00000</td>\n",
       "      <td>1.00000</td>\n",
       "      <td>2265604.02872</td>\n",
       "    </tr>\n",
       "  </tbody>\n",
       "</table>\n",
       "</div>"
      ],
      "text/plain": [
       "         children  days_employed   dob_years  education_id  family_status_id  \\\n",
       "count 15906.00000    15906.00000 15906.00000   15906.00000       15906.00000   \n",
       "mean      0.62599    -2353.01593    39.81824       0.79838           0.96963   \n",
       "std       1.43057     2304.24385    10.66317       0.55484           1.44226   \n",
       "min      -1.00000   -18388.94990     0.00000       0.00000           0.00000   \n",
       "25%       0.00000    -3157.48008    32.00000       0.00000           0.00000   \n",
       "50%       0.00000    -1630.01938    39.00000       1.00000           0.00000   \n",
       "75%       1.00000     -756.37196    48.00000       1.00000           1.00000   \n",
       "max      20.00000      -24.14163    75.00000       4.00000           4.00000   \n",
       "\n",
       "             debt  total_income  \n",
       "count 15906.00000   15906.00000  \n",
       "mean      0.08733  173984.43519  \n",
       "std       0.28232  106130.29174  \n",
       "min       0.00000   21367.64836  \n",
       "25%       0.00000  108271.34329  \n",
       "50%       0.00000  151134.59348  \n",
       "75%       0.00000  211494.41556  \n",
       "max       1.00000 2265604.02872  "
      ]
     },
     "execution_count": 39,
     "metadata": {},
     "output_type": "execute_result"
    }
   ],
   "source": [
    "data[data['days_employed'] < 0].describe()"
   ]
  },
  {
   "cell_type": "code",
   "execution_count": 40,
   "metadata": {},
   "outputs": [
    {
     "data": {
      "text/plain": [
       "21367.648356486974"
      ]
     },
     "execution_count": 40,
     "metadata": {},
     "output_type": "execute_result"
    }
   ],
   "source": [
    "data[data['days_employed'] < 0]['total_income'].min()"
   ]
  },
  {
   "cell_type": "markdown",
   "metadata": {},
   "source": [
    "Минимальный доход для записи с отрицательным стажем составил 21367, что явно отлично от нуля.\n",
    "\n",
    "Буду считать это основанием для замены всех days_employed < 0 на abs(days_employed) "
   ]
  },
  {
   "cell_type": "code",
   "execution_count": 41,
   "metadata": {},
   "outputs": [],
   "source": [
    "data['days_employed'] = data['days_employed'].abs()"
   ]
  },
  {
   "cell_type": "markdown",
   "metadata": {},
   "source": [
    "Теперь можно наконец приступить к заполнению пропусков. \n",
    "\n",
    "Буду заменять пропусти в колонках days_employed и total_income на медианные значения, посчитанные для каждого income_type:"
   ]
  },
  {
   "cell_type": "markdown",
   "metadata": {},
   "source": [
    "Создаю функцию для заполнения пропусков и применяю к датафрейму:"
   ]
  },
  {
   "cell_type": "code",
   "execution_count": 53,
   "metadata": {},
   "outputs": [],
   "source": [
    "data['total_income'] = data.groupby('income_type')['total_income'].apply(lambda x: x.fillna(x.median()))\n",
    "data['days_employed'] = data.groupby('income_type')['days_employed'].apply(lambda x: x.fillna(x.median()))"
   ]
  },
  {
   "cell_type": "markdown",
   "metadata": {},
   "source": [
    "<div class=\"alert alert-success\">\n",
    "<h2> Комментарий ревьюера </h2>\n",
    "\n",
    "Хорошая реализация! Вот еще один вариант, как можно было сделать замену, но уже не используя циклы 😉\n",
    "    \n",
    "    data['total_income'] = data.groupby('income_type')['total_income'].apply(lambda x: x.fillna(x.median()))\n",
    "\n",
    "</div>"
   ]
  },
  {
   "cell_type": "markdown",
   "metadata": {},
   "source": [
    "Убеждаюсь, что все пропуски заполнены:"
   ]
  },
  {
   "cell_type": "code",
   "execution_count": 54,
   "metadata": {},
   "outputs": [
    {
     "name": "stdout",
     "output_type": "stream",
     "text": [
      "<class 'pandas.core.frame.DataFrame'>\n",
      "Int64Index: 21449 entries, 0 to 21524\n",
      "Data columns (total 12 columns):\n",
      " #   Column            Non-Null Count  Dtype  \n",
      "---  ------            --------------  -----  \n",
      " 0   children          21449 non-null  int8   \n",
      " 1   days_employed     21449 non-null  float64\n",
      " 2   dob_years         21449 non-null  int64  \n",
      " 3   education         21449 non-null  object \n",
      " 4   education_id      21449 non-null  int64  \n",
      " 5   family_status     21449 non-null  object \n",
      " 6   family_status_id  21449 non-null  int64  \n",
      " 7   gender            21449 non-null  object \n",
      " 8   income_type       21449 non-null  object \n",
      " 9   debt              21449 non-null  int64  \n",
      " 10  total_income      21449 non-null  float64\n",
      " 11  purpose           21449 non-null  object \n",
      "dtypes: float64(2), int64(4), int8(1), object(5)\n",
      "memory usage: 2.0+ MB\n"
     ]
    }
   ],
   "source": [
    "data.info()"
   ]
  },
  {
   "cell_type": "markdown",
   "metadata": {},
   "source": [
    "### Вывод"
   ]
  },
  {
   "cell_type": "markdown",
   "metadata": {},
   "source": [
    "При наличие пропусков на достачно большом проценте данных, стоит заменить их на медианные значения. Если есть возможность, то считать медианные значения не по всему датафрейму, а разделить его предварительно на категории.\n",
    "\n",
    "Однако, стоит быть очень внимательным перед тем как считать медиану - необходимо изучить столбец на наличие аномальных или противоречящих логике значений, которые могут исказить значение медианы.\n",
    "Необходимо детальнее изучить данные с аномалиями и попробовать установить причину их возникновения.\n",
    "\n",
    "Некоторые гипотезы  могут подтвердиться и тогда можно избавиться от части аномалий.\n",
    "\n",
    "Какие-то гипотезы не подтвердятся и аномальные значения останутся в исходном датасете - тогда следует внимательно изучить природу данных, содержащих аномалии - возможно, они не повлияют на основной массив данных и не все так плохо.\n",
    "\n",
    "После того, как данные изучены и приведены к \"приличному\" состоянию, можно смело рассчитывать медиану и заменять ей пропуски. И напоследок не забыть проверить, что пропусков действительно больше нет."
   ]
  },
  {
   "cell_type": "markdown",
   "metadata": {},
   "source": [
    "### Замена типа данных"
   ]
  },
  {
   "cell_type": "markdown",
   "metadata": {},
   "source": [
    "В конце прошлого шага я вызывала метод info(), в котором содержится информация о типах данных всех колонок.\n",
    "Теперь я буду детальнее изучать данные и приводить тип для всх колонок по порядку.\n",
    "\n",
    "Начну со столбца children. Он содержит информацию о количестве детей в семье, поэтому логично, чтобы он имел целочисленный тип integer.\n",
    "Смотрю значения:"
   ]
  },
  {
   "cell_type": "code",
   "execution_count": 55,
   "metadata": {},
   "outputs": [
    {
     "data": {
      "text/plain": [
       "0    14149\n",
       "1     4865\n",
       "2     2055\n",
       "3      330\n",
       "4       41\n",
       "5        9\n",
       "Name: children, dtype: int64"
      ]
     },
     "execution_count": 55,
     "metadata": {},
     "output_type": "execute_result"
    }
   ],
   "source": [
    "data['children'].value_counts()"
   ]
  },
  {
   "cell_type": "markdown",
   "metadata": {},
   "source": [
    "Вижу, что есть артефакты: children = 20 и children = -1.\n",
    "Изучу данные подробнее:"
   ]
  },
  {
   "cell_type": "code",
   "execution_count": 56,
   "metadata": {},
   "outputs": [
    {
     "data": {
      "text/html": [
       "<div>\n",
       "<style scoped>\n",
       "    .dataframe tbody tr th:only-of-type {\n",
       "        vertical-align: middle;\n",
       "    }\n",
       "\n",
       "    .dataframe tbody tr th {\n",
       "        vertical-align: top;\n",
       "    }\n",
       "\n",
       "    .dataframe thead th {\n",
       "        text-align: right;\n",
       "    }\n",
       "</style>\n",
       "<table border=\"1\" class=\"dataframe\">\n",
       "  <thead>\n",
       "    <tr style=\"text-align: right;\">\n",
       "      <th></th>\n",
       "      <th>children</th>\n",
       "      <th>days_employed</th>\n",
       "      <th>dob_years</th>\n",
       "      <th>education</th>\n",
       "      <th>education_id</th>\n",
       "      <th>family_status</th>\n",
       "      <th>family_status_id</th>\n",
       "      <th>gender</th>\n",
       "      <th>income_type</th>\n",
       "      <th>debt</th>\n",
       "      <th>total_income</th>\n",
       "      <th>purpose</th>\n",
       "    </tr>\n",
       "  </thead>\n",
       "  <tbody>\n",
       "  </tbody>\n",
       "</table>\n",
       "</div>"
      ],
      "text/plain": [
       "Empty DataFrame\n",
       "Columns: [children, days_employed, dob_years, education, education_id, family_status, family_status_id, gender, income_type, debt, total_income, purpose]\n",
       "Index: []"
      ]
     },
     "execution_count": 56,
     "metadata": {},
     "output_type": "execute_result"
    }
   ],
   "source": [
    "data[data['children'] == 20]"
   ]
  },
  {
   "cell_type": "code",
   "execution_count": 57,
   "metadata": {},
   "outputs": [
    {
     "name": "stdout",
     "output_type": "stream",
     "text": [
      "0.0%\n"
     ]
    }
   ],
   "source": [
    "print('{:.1%}'.format(len(data[data['children'] == 20])/len(data)))"
   ]
  },
  {
   "cell_type": "code",
   "execution_count": 58,
   "metadata": {},
   "outputs": [
    {
     "data": {
      "text/html": [
       "<div>\n",
       "<style scoped>\n",
       "    .dataframe tbody tr th:only-of-type {\n",
       "        vertical-align: middle;\n",
       "    }\n",
       "\n",
       "    .dataframe tbody tr th {\n",
       "        vertical-align: top;\n",
       "    }\n",
       "\n",
       "    .dataframe thead th {\n",
       "        text-align: right;\n",
       "    }\n",
       "</style>\n",
       "<table border=\"1\" class=\"dataframe\">\n",
       "  <thead>\n",
       "    <tr style=\"text-align: right;\">\n",
       "      <th></th>\n",
       "      <th>children</th>\n",
       "      <th>days_employed</th>\n",
       "      <th>dob_years</th>\n",
       "      <th>education_id</th>\n",
       "      <th>family_status_id</th>\n",
       "      <th>debt</th>\n",
       "      <th>total_income</th>\n",
       "    </tr>\n",
       "  </thead>\n",
       "  <tbody>\n",
       "    <tr>\n",
       "      <th>count</th>\n",
       "      <td>0.00000</td>\n",
       "      <td>0.00000</td>\n",
       "      <td>0.00000</td>\n",
       "      <td>0.00000</td>\n",
       "      <td>0.00000</td>\n",
       "      <td>0.00000</td>\n",
       "      <td>0.00000</td>\n",
       "    </tr>\n",
       "    <tr>\n",
       "      <th>mean</th>\n",
       "      <td>nan</td>\n",
       "      <td>nan</td>\n",
       "      <td>nan</td>\n",
       "      <td>nan</td>\n",
       "      <td>nan</td>\n",
       "      <td>nan</td>\n",
       "      <td>nan</td>\n",
       "    </tr>\n",
       "    <tr>\n",
       "      <th>std</th>\n",
       "      <td>nan</td>\n",
       "      <td>nan</td>\n",
       "      <td>nan</td>\n",
       "      <td>nan</td>\n",
       "      <td>nan</td>\n",
       "      <td>nan</td>\n",
       "      <td>nan</td>\n",
       "    </tr>\n",
       "    <tr>\n",
       "      <th>min</th>\n",
       "      <td>nan</td>\n",
       "      <td>nan</td>\n",
       "      <td>nan</td>\n",
       "      <td>nan</td>\n",
       "      <td>nan</td>\n",
       "      <td>nan</td>\n",
       "      <td>nan</td>\n",
       "    </tr>\n",
       "    <tr>\n",
       "      <th>25%</th>\n",
       "      <td>nan</td>\n",
       "      <td>nan</td>\n",
       "      <td>nan</td>\n",
       "      <td>nan</td>\n",
       "      <td>nan</td>\n",
       "      <td>nan</td>\n",
       "      <td>nan</td>\n",
       "    </tr>\n",
       "    <tr>\n",
       "      <th>50%</th>\n",
       "      <td>nan</td>\n",
       "      <td>nan</td>\n",
       "      <td>nan</td>\n",
       "      <td>nan</td>\n",
       "      <td>nan</td>\n",
       "      <td>nan</td>\n",
       "      <td>nan</td>\n",
       "    </tr>\n",
       "    <tr>\n",
       "      <th>75%</th>\n",
       "      <td>nan</td>\n",
       "      <td>nan</td>\n",
       "      <td>nan</td>\n",
       "      <td>nan</td>\n",
       "      <td>nan</td>\n",
       "      <td>nan</td>\n",
       "      <td>nan</td>\n",
       "    </tr>\n",
       "    <tr>\n",
       "      <th>max</th>\n",
       "      <td>nan</td>\n",
       "      <td>nan</td>\n",
       "      <td>nan</td>\n",
       "      <td>nan</td>\n",
       "      <td>nan</td>\n",
       "      <td>nan</td>\n",
       "      <td>nan</td>\n",
       "    </tr>\n",
       "  </tbody>\n",
       "</table>\n",
       "</div>"
      ],
      "text/plain": [
       "       children  days_employed  dob_years  education_id  family_status_id  \\\n",
       "count   0.00000        0.00000    0.00000       0.00000           0.00000   \n",
       "mean        nan            nan        nan           nan               nan   \n",
       "std         nan            nan        nan           nan               nan   \n",
       "min         nan            nan        nan           nan               nan   \n",
       "25%         nan            nan        nan           nan               nan   \n",
       "50%         nan            nan        nan           nan               nan   \n",
       "75%         nan            nan        nan           nan               nan   \n",
       "max         nan            nan        nan           nan               nan   \n",
       "\n",
       "         debt  total_income  \n",
       "count 0.00000       0.00000  \n",
       "mean      nan           nan  \n",
       "std       nan           nan  \n",
       "min       nan           nan  \n",
       "25%       nan           nan  \n",
       "50%       nan           nan  \n",
       "75%       nan           nan  \n",
       "max       nan           nan  "
      ]
     },
     "execution_count": 58,
     "metadata": {},
     "output_type": "execute_result"
    }
   ],
   "source": [
    "data[(data['children'] == -1)].describe()"
   ]
  },
  {
   "cell_type": "markdown",
   "metadata": {},
   "source": [
    "В случае значения children = -1 есть преположение, что имелось в виду \"тире 1\". Поэтому в этом случае заменим отрицательное значение -1 на 1.\n",
    "Поле children = 20 тоже может быть ошибкой, но так как процент данных с такими значениями невелик (0.4%), то считаю, что его удаление не приведет к значительному искажению общей выборки.\n",
    "\n",
    "Так же столбец с количеством детей можно привести к типу int8 абсолютно без потери данных и позволит сократить используемую память."
   ]
  },
  {
   "cell_type": "markdown",
   "metadata": {},
   "source": [
    "<div class=\"alert alert-success\">\n",
    "<h2> Комментарий ревьюера </h2>\n",
    "\n",
    "Согласен\n",
    "    \n",
    "</div>"
   ]
  },
  {
   "cell_type": "code",
   "execution_count": 59,
   "metadata": {},
   "outputs": [],
   "source": [
    "data['children'] = data['children'].abs().astype('int8')\n",
    "data = data[data['children'] != 20]"
   ]
  },
  {
   "cell_type": "markdown",
   "metadata": {},
   "source": [
    "Дальше смотрю на колонки days_employed и сразу total_income. С ними я работала на прошлом шаге, поэтому знаю, что они содержат неотрицательные значения с плавающей точкой и не содержат пропусков. Так как для данных колонок количество знаков после запятой для нас не принципиально, изменяю их на целочисленный тип. \n",
    "\n",
    "\n",
    "Столбец dob_years так же привожу к типу int8, чтобы сократить количетво потребляемой памяти. Такие же преобразования применяю к колонкам: education_id и family_status_id.\n",
    "И напоследок приведем тип колонки debt к int8. Там содержаться только булевы значения 0 и 1, но я не хочу менять их на тип bool, чтобы не потерять возможность использовать математические операции над этой колонкой. Но в целях экономии памяти вполне можно привести к int8.\n",
    "Выбрала приведение к типу int8 так как значения в приводимых столбцах ограничены, и мы сократим потребление памяти без утери значений."
   ]
  },
  {
   "cell_type": "code",
   "execution_count": 60,
   "metadata": {},
   "outputs": [],
   "source": [
    "data['days_employed'] = data['days_employed'].astype('int')\n",
    "data['total_income'] = data['total_income'].astype('int')\n",
    "data['dob_years'] = data['dob_years'].astype('int8')\n",
    "data['education_id'] = data['education_id'].astype('int8')\n",
    "data['family_status_id'] = data['family_status_id'].astype('int8')\n",
    "data['debt'] = data['debt'].astype('int8')"
   ]
  },
  {
   "cell_type": "markdown",
   "metadata": {},
   "source": [
    "<div class=\"alert alert-warning\">\n",
    "<h2> Комментарий ревьюера </h2>\n",
    "\n",
    "А здесь прям напрашиваются циклы\n",
    "    \n",
    "</div>"
   ]
  },
  {
   "cell_type": "code",
   "execution_count": 61,
   "metadata": {},
   "outputs": [
    {
     "name": "stdout",
     "output_type": "stream",
     "text": [
      "<class 'pandas.core.frame.DataFrame'>\n",
      "Int64Index: 21449 entries, 0 to 21524\n",
      "Data columns (total 12 columns):\n",
      " #   Column            Non-Null Count  Dtype \n",
      "---  ------            --------------  ----- \n",
      " 0   children          21449 non-null  int8  \n",
      " 1   days_employed     21449 non-null  int64 \n",
      " 2   dob_years         21449 non-null  int8  \n",
      " 3   education         21449 non-null  object\n",
      " 4   education_id      21449 non-null  int8  \n",
      " 5   family_status     21449 non-null  object\n",
      " 6   family_status_id  21449 non-null  int8  \n",
      " 7   gender            21449 non-null  object\n",
      " 8   income_type       21449 non-null  object\n",
      " 9   debt              21449 non-null  int8  \n",
      " 10  total_income      21449 non-null  int64 \n",
      " 11  purpose           21449 non-null  object\n",
      "dtypes: int64(2), int8(5), object(5)\n",
      "memory usage: 1.4+ MB\n"
     ]
    }
   ],
   "source": [
    "data.info()"
   ]
  },
  {
   "cell_type": "markdown",
   "metadata": {},
   "source": [
    "### Вывод"
   ]
  },
  {
   "cell_type": "markdown",
   "metadata": {},
   "source": [
    "На этом шаге удалось сделать 2 вещи:\n",
    "* Привести данные к более удобному для дальнейшей работы внешнему виду (преобразовать вещественный тип в целочисленный)\n",
    "* Сократить объем потребляемой памяти на 25%\n",
    "\n",
    "При этом не стоит забывать, что перед приведением типов следует внимательно изучить данные приводимых столбцов и убедиться, что там нет аномалий, к которым будет чувствительно приведение и что приведение типа не повлияет негативно в дальнейшей работе."
   ]
  },
  {
   "cell_type": "markdown",
   "metadata": {},
   "source": [
    "### Обработка дубликатов"
   ]
  },
  {
   "cell_type": "markdown",
   "metadata": {},
   "source": [
    "Перед тем, как искать дубликаты, вспомню, что на ранних этапах видела дубликаты, написанные в разных регистрах в колонке education. Больше таких колонок нет.\n",
    "\n",
    "Приведу её к нижнему регистру и посмотрю на количество дубликатов."
   ]
  },
  {
   "cell_type": "code",
   "execution_count": 62,
   "metadata": {},
   "outputs": [],
   "source": [
    "data['education'] = data['education'].str.lower()"
   ]
  },
  {
   "cell_type": "markdown",
   "metadata": {},
   "source": [
    "<div class=\"alert alert-success\">\n",
    "<h2> Комментарий ревьюера </h2>\n",
    "\n",
    "Молодец, что приводишь данные к общему виду и делаешь это до удаления дубликатов, ведь это может повлиять на их кол-во\n",
    "\n",
    "</div>"
   ]
  },
  {
   "cell_type": "code",
   "execution_count": 63,
   "metadata": {},
   "outputs": [
    {
     "data": {
      "text/plain": [
       "71"
      ]
     },
     "execution_count": 63,
     "metadata": {},
     "output_type": "execute_result"
    }
   ],
   "source": [
    "data.duplicated().sum()"
   ]
  },
  {
   "cell_type": "code",
   "execution_count": 64,
   "metadata": {},
   "outputs": [
    {
     "name": "stdout",
     "output_type": "stream",
     "text": [
      "0.3%\n"
     ]
    }
   ],
   "source": [
    "print('{:.1%}'.format(71/len(data)))"
   ]
  },
  {
   "cell_type": "markdown",
   "metadata": {},
   "source": [
    "Вижу, что значения не уникальны. \n",
    "\n",
    "Дубликаты составляют 0.3% от всего датасета, поэтому удалю их. После проверю, что дубликатов больше не осталось.\n"
   ]
  },
  {
   "cell_type": "code",
   "execution_count": 65,
   "metadata": {},
   "outputs": [],
   "source": [
    "data = data.drop_duplicates().reset_index()"
   ]
  },
  {
   "cell_type": "code",
   "execution_count": 66,
   "metadata": {},
   "outputs": [
    {
     "data": {
      "text/plain": [
       "0"
      ]
     },
     "execution_count": 66,
     "metadata": {},
     "output_type": "execute_result"
    }
   ],
   "source": [
    "data.duplicated().sum()"
   ]
  },
  {
   "cell_type": "markdown",
   "metadata": {},
   "source": [
    "### Вывод"
   ]
  },
  {
   "cell_type": "markdown",
   "metadata": {},
   "source": [
    "На этом этапе я поработала с 2 типами дубликатов:\n",
    "* полные смысловые дубликаты, которые отличаются лишь регистром\n",
    "* дублирование всех строк датафрейма\n",
    "\n",
    "Сначала нужно привести к общему виду все смысловые дубликаты (путем приведения их к общему регистру) и только потом заниматься подсчетом и обработкой дубликатов на уровне всего датафрейма.\n",
    "\n",
    "В моем случае дубликаты составляли 0.3% от всего объема данных, поэтому было принято решение их удалить."
   ]
  },
  {
   "cell_type": "markdown",
   "metadata": {},
   "source": [
    "### Лемматизация"
   ]
  },
  {
   "cell_type": "markdown",
   "metadata": {},
   "source": [
    "Взгляну подробнее на значения, которые содержит в себе колонка purpose:"
   ]
  },
  {
   "cell_type": "code",
   "execution_count": 70,
   "metadata": {},
   "outputs": [
    {
     "data": {
      "text/plain": [
       "свадьба                                   790\n",
       "на проведение свадьбы                     764\n",
       "сыграть свадьбу                           761\n",
       "операции с недвижимостью                  674\n",
       "покупка коммерческой недвижимости         658\n",
       "покупка жилья для сдачи                   650\n",
       "операции с жильем                         648\n",
       "операции с коммерческой недвижимостью     646\n",
       "покупка жилья                             643\n",
       "жилье                                     642\n",
       "покупка жилья для семьи                   637\n",
       "недвижимость                              632\n",
       "строительство собственной недвижимости    629\n",
       "операции со своей недвижимостью           626\n",
       "строительство жилой недвижимости          623\n",
       "покупка своего жилья                      620\n",
       "строительство недвижимости                619\n",
       "покупка недвижимости                      619\n",
       "ремонт жилью                              605\n",
       "покупка жилой недвижимости                604\n",
       "на покупку своего автомобиля              505\n",
       "заняться высшим образованием              496\n",
       "автомобиль                                493\n",
       "сделка с подержанным автомобилем          482\n",
       "автомобили                                477\n",
       "свой автомобиль                           475\n",
       "на покупку подержанного автомобиля        472\n",
       "на покупку автомобиля                     470\n",
       "приобретение автомобиля                   461\n",
       "дополнительное образование                457\n",
       "сделка с автомобилем                      455\n",
       "высшее образование                        447\n",
       "образование                               445\n",
       "получение дополнительного образования     445\n",
       "получение образования                     441\n",
       "профильное образование                    434\n",
       "получение высшего образования             425\n",
       "заняться образованием                     408\n",
       "Name: purpose, dtype: int64"
      ]
     },
     "execution_count": 70,
     "metadata": {},
     "output_type": "execute_result"
    }
   ],
   "source": [
    "data['purpose'].value_counts()"
   ]
  },
  {
   "cell_type": "markdown",
   "metadata": {},
   "source": [
    "Видно, что очень многие категории схожи, но написаны разными словами. Чтобы на следующем шаге успешно разделить все цели для кредита на несколько крупных категорий, необходимо произвести лемматизацию данных в колонке purpose.\n",
    "\n",
    "Создам новую колонку, в которую результат лемматизации для колонки purpose."
   ]
  },
  {
   "cell_type": "code",
   "execution_count": 71,
   "metadata": {},
   "outputs": [],
   "source": [
    "from pymystem3 import Mystem\n",
    "m = Mystem()\n",
    "from collections import Counter"
   ]
  },
  {
   "cell_type": "code",
   "execution_count": 72,
   "metadata": {},
   "outputs": [],
   "source": [
    "data['purpose_lem'] = data['purpose'].apply(lambda x:  ''.join(m.lemmatize(x)))"
   ]
  },
  {
   "cell_type": "code",
   "execution_count": 73,
   "metadata": {},
   "outputs": [
    {
     "data": {
      "text/plain": [
       "['автомобиль\\n',\n",
       " 'свадьба\\n',\n",
       " 'на проведение свадьба\\n',\n",
       " 'сыграть свадьба\\n',\n",
       " 'операция с недвижимость\\n',\n",
       " 'покупка коммерческий недвижимость\\n',\n",
       " 'покупка жилье для сдача\\n',\n",
       " 'операция с жилье\\n',\n",
       " 'операция с коммерческий недвижимость\\n',\n",
       " 'покупка жилье\\n',\n",
       " 'жилье\\n',\n",
       " 'покупка жилье для семья\\n',\n",
       " 'недвижимость\\n',\n",
       " 'строительство собственный недвижимость\\n',\n",
       " 'операция со свой недвижимость\\n',\n",
       " 'строительство жилой недвижимость\\n',\n",
       " 'покупка свой жилье\\n',\n",
       " 'строительство недвижимость\\n',\n",
       " 'покупка недвижимость\\n',\n",
       " 'ремонт жилье\\n',\n",
       " 'покупка жилой недвижимость\\n',\n",
       " 'на покупка свой автомобиль\\n',\n",
       " 'заниматься высокий образование\\n',\n",
       " 'сделка с подержанный автомобиль\\n',\n",
       " 'свой автомобиль\\n',\n",
       " 'на покупка подержать автомобиль\\n',\n",
       " 'на покупка автомобиль\\n',\n",
       " 'приобретение автомобиль\\n',\n",
       " 'дополнительный образование\\n',\n",
       " 'сделка с автомобиль\\n',\n",
       " 'высокий образование\\n',\n",
       " 'получение дополнительный образование\\n',\n",
       " 'образование\\n',\n",
       " 'получение образование\\n',\n",
       " 'профильный образование\\n',\n",
       " 'получение высокий образование\\n',\n",
       " 'заниматься образование\\n']"
      ]
     },
     "execution_count": 73,
     "metadata": {},
     "output_type": "execute_result"
    }
   ],
   "source": [
    "lemmas_list = data['purpose_lem'].value_counts().index.to_list()\n",
    "lemmas_list"
   ]
  },
  {
   "cell_type": "markdown",
   "metadata": {},
   "source": [
    "Этот список я лемматизирую ещё раз и подсчитаю количество вхождений, чтобы определить ключевые слова, по которым буду на следующем шаге строить категории.\n",
    "Так как в данном датасете вариативность не очень большая, то оcновные категории можно выделить и без этого шага, но мне хочется его проделать тоже."
   ]
  },
  {
   "cell_type": "code",
   "execution_count": 74,
   "metadata": {},
   "outputs": [
    {
     "name": "stdout",
     "output_type": "stream",
     "text": [
      "Counter({' ': 95, 'недвижимость': 10, 'покупка': 10, 'образование': 9, 'автомобиль': 8, 'жилье': 7, 'с': 5, 'на': 4, 'операция': 4, 'свой': 4, 'свадьба': 3, 'строительство': 3, 'высокий': 3, 'получение': 3, 'коммерческий': 2, 'для': 2, 'жилой': 2, 'заниматься': 2, 'сделка': 2, 'дополнительный': 2, 'проведение': 1, 'сыграть': 1, 'сдача': 1, 'семья': 1, 'собственный': 1, 'со': 1, 'ремонт': 1, 'подержанный': 1, 'подержать': 1, 'приобретение': 1, 'профильный': 1, ' \\n': 1})\n"
     ]
    }
   ],
   "source": [
    "lemmas_list = pd.Series(lemmas_list)\n",
    "lemmas_list = lemmas_list.apply(lambda x: x.replace('\\n',' '))\n",
    "lemmas_list = lemmas_list.sum()\n",
    "lemmas = m.lemmatize(lemmas_list)\n",
    "print(Counter(lemmas))"
   ]
  },
  {
   "cell_type": "markdown",
   "metadata": {},
   "source": [
    "<div class=\"alert alert-success\">\n",
    "<h2> Комментарий ревьюера </h2>\n",
    "\n",
    "Жирный плюс! Это один из сложнейших этапов проекта, справилась на отлично\n",
    "\n",
    "</div>"
   ]
  },
  {
   "cell_type": "markdown",
   "metadata": {},
   "source": [
    "На основании полученных результатов могу сформировать следующие категории, на которые буду делить цели кредитования на следующем этапе:\n",
    "* недвижимость (сюда будет относиться цели содежржащие леммы жилье, недвижимость)\n",
    "* образование\n",
    "* автомобиль\n",
    "* свадьба"
   ]
  },
  {
   "cell_type": "markdown",
   "metadata": {},
   "source": [
    "### Вывод"
   ]
  },
  {
   "cell_type": "markdown",
   "metadata": {},
   "source": [
    "На этом этапе я лемматизировала колонку, содержащую данные о целях кредита и подсчитала количество вхождений каждой леммы.\n",
    "\n",
    "Это помогло мне выделить 4 основные типа целей выдачи кредита, используя которые, я смогу категоризировать данные на следующем шаге."
   ]
  },
  {
   "cell_type": "markdown",
   "metadata": {},
   "source": [
    "### Категоризация данных"
   ]
  },
  {
   "cell_type": "markdown",
   "metadata": {},
   "source": [
    "Чтобы ответить на вопросы 3 шага, нужно категоризировать все данные:\n",
    "1. По наличию детей\n",
    "2. По семейному положению\n",
    "3. По уровню дохода\n",
    "4. По цели кредита"
   ]
  },
  {
   "cell_type": "code",
   "execution_count": 75,
   "metadata": {},
   "outputs": [],
   "source": [
    "data.drop(columns = 'index', inplace = True)"
   ]
  },
  {
   "cell_type": "code",
   "execution_count": 76,
   "metadata": {},
   "outputs": [],
   "source": [
    "data['purpose_cat'] = ''"
   ]
  },
  {
   "cell_type": "code",
   "execution_count": 77,
   "metadata": {},
   "outputs": [],
   "source": [
    "#функция для категоризации по наличию детей \n",
    "def children(x):\n",
    "    if x > 0:\n",
    "        return 1\n",
    "    return 0"
   ]
  },
  {
   "cell_type": "code",
   "execution_count": 78,
   "metadata": {},
   "outputs": [],
   "source": [
    "#функция для категоризации по целям кредита\n",
    "def purpose(d):\n",
    "    try:\n",
    "        d.loc[d['purpose_lem'].str.contains('жилье') == True,'purpose_cat'] = 'недвижимость'\n",
    "        d.loc[d['purpose_lem'].str.contains('недвижимость') == True,'purpose_cat'] = 'недвижимость'\n",
    "        d.loc[d['purpose_lem'].str.contains('образование') == True,'purpose_cat'] = 'образование'\n",
    "        d.loc[d['purpose_lem'].str.contains('свадьба') == True,'purpose_cat'] = 'свадьба'\n",
    "        d.loc[d['purpose_lem'].str.contains('автомобиль') == True,'purpose_cat'] = 'автомобиль'\n",
    "    except:\n",
    "        print('Проблема категоризации!')\n",
    "    return"
   ]
  },
  {
   "cell_type": "markdown",
   "metadata": {},
   "source": [
    "<div class=\"alert alert-success\">\n",
    "<h2> Комментарий ревьюера </h2>\n",
    "\n",
    "Здорово, что ты используешь конструкцию `try-except`, это повышает отказоустойчивость кода\n",
    "\n",
    "</div>"
   ]
  },
  {
   "cell_type": "code",
   "execution_count": 79,
   "metadata": {},
   "outputs": [],
   "source": [
    "purpose(data)\n",
    "data['children_cat'] = data['children'].apply(children)"
   ]
  },
  {
   "cell_type": "markdown",
   "metadata": {},
   "source": [
    "Посмотрим на уровни дохода, чтобы понять, как можно распределить категории:"
   ]
  },
  {
   "cell_type": "code",
   "execution_count": 80,
   "metadata": {},
   "outputs": [
    {
     "data": {
      "text/plain": [
       "count     21378.00000\n",
       "mean     165316.19118\n",
       "std       98257.35605\n",
       "min       20667.00000\n",
       "25%      107528.75000\n",
       "50%      142594.00000\n",
       "75%      195795.50000\n",
       "max     2265604.00000\n",
       "Name: total_income, dtype: float64"
      ]
     },
     "execution_count": 80,
     "metadata": {},
     "output_type": "execute_result"
    }
   ],
   "source": [
    "data['total_income'].describe()"
   ]
  },
  {
   "cell_type": "code",
   "execution_count": 81,
   "metadata": {},
   "outputs": [
    {
     "data": {
      "text/plain": [
       "142594.0"
      ]
     },
     "execution_count": 81,
     "metadata": {},
     "output_type": "execute_result"
    }
   ],
   "source": [
    "data['total_income'].median()"
   ]
  },
  {
   "cell_type": "code",
   "execution_count": 82,
   "metadata": {},
   "outputs": [
    {
     "data": {
      "image/png": "[encoded data removed]",
      "text/plain": [
       "<Figure size 432x288 with 1 Axes>"
      ]
     },
     "metadata": {
      "needs_background": "light"
     },
     "output_type": "display_data"
    }
   ],
   "source": [
    "data[data['total_income']<500000].hist(column = 'total_income');"
   ]
  },
  {
   "cell_type": "markdown",
   "metadata": {},
   "source": [
    "Основываясь на распределении данных этого столбца категоризирую уровень дохода по перцинтилям:\n"
   ]
  },
  {
   "cell_type": "code",
   "execution_count": 86,
   "metadata": {},
   "outputs": [],
   "source": [
    "data['income_cat'] = pd.qcut(data['total_income'],3, labels=[\"низкий\", \"средний\", \"высокий\"])"
   ]
  },
  {
   "cell_type": "markdown",
   "metadata": {},
   "source": [
    "<div class=\"alert alert-success\">\n",
    "<h2> Комментарий ревьюера </h2>\n",
    "\n",
    "Здесь, кстати для деления по доходу можно было применить метод [cut](https://pandas.pydata.org/pandas-docs/stable/reference/api/pandas.cut.html) или [qcut](https://pandas.pydata.org/pandas-docs/stable/reference/api/pandas.qcut.html)(в этом случае деление будет проводиться по проценилям). Обрати внимание, у данного метода есть параметр `labels`, так можно оформить группы красивее 😊\n",
    "\n",
    "</div>"
   ]
  },
  {
   "cell_type": "markdown",
   "metadata": {},
   "source": [
    "### Вывод"
   ]
  },
  {
   "cell_type": "markdown",
   "metadata": {},
   "source": [
    "Я разбила все данные по более общим категориям, которые мне необходимы для ответов на поставленные вопросы.\n"
   ]
  },
  {
   "cell_type": "markdown",
   "metadata": {},
   "source": [
    "### Шаг 3. Ответьте на вопросы"
   ]
  },
  {
   "cell_type": "markdown",
   "metadata": {},
   "source": [
    "- Есть ли зависимость между наличием детей и возвратом кредита в срок?"
   ]
  },
  {
   "cell_type": "markdown",
   "metadata": {},
   "source": [
    "Отвечать на вопрос буду при помощи вычисления %должников для каждой категории:"
   ]
  },
  {
   "cell_type": "code",
   "execution_count": 94,
   "metadata": {},
   "outputs": [
    {
     "data": {
      "text/html": [
       "<style  type=\"text/css\" >\n",
       "</style><table id=\"T_247d5238_3921_11eb_a5f4_acde48001122\" ><thead>    <tr>        <th class=\"blank level0\" ></th>        <th class=\"col_heading level0 col0\" >count</th>        <th class=\"col_heading level0 col1\" >mean</th>        <th class=\"col_heading level0 col2\" >sum</th>    </tr>    <tr>        <th class=\"index_name level0\" >children_cat</th>        <th class=\"blank\" ></th>        <th class=\"blank\" ></th>        <th class=\"blank\" ></th>    </tr></thead><tbody>\n",
       "                <tr>\n",
       "                        <th id=\"T_247d5238_3921_11eb_a5f4_acde48001122level0_row0\" class=\"row_heading level0 row0\" >0</th>\n",
       "                        <td id=\"T_247d5238_3921_11eb_a5f4_acde48001122row0_col0\" class=\"data row0 col0\" >14091.000000</td>\n",
       "                        <td id=\"T_247d5238_3921_11eb_a5f4_acde48001122row0_col1\" class=\"data row0 col1\" >7.54%</td>\n",
       "                        <td id=\"T_247d5238_3921_11eb_a5f4_acde48001122row0_col2\" class=\"data row0 col2\" >1063.000000</td>\n",
       "            </tr>\n",
       "            <tr>\n",
       "                        <th id=\"T_247d5238_3921_11eb_a5f4_acde48001122level0_row1\" class=\"row_heading level0 row1\" >1</th>\n",
       "                        <td id=\"T_247d5238_3921_11eb_a5f4_acde48001122row1_col0\" class=\"data row1 col0\" >7287.000000</td>\n",
       "                        <td id=\"T_247d5238_3921_11eb_a5f4_acde48001122row1_col1\" class=\"data row1 col1\" >9.19%</td>\n",
       "                        <td id=\"T_247d5238_3921_11eb_a5f4_acde48001122row1_col2\" class=\"data row1 col2\" >670.000000</td>\n",
       "            </tr>\n",
       "    </tbody></table>"
      ],
      "text/plain": [
       "<pandas.io.formats.style.Styler at 0x7f9b59914450>"
      ]
     },
     "execution_count": 94,
     "metadata": {},
     "output_type": "execute_result"
    }
   ],
   "source": [
    "children_data = data.pivot_table(index = ['children_cat'], values = 'debt', aggfunc = {'count','sum','mean'})\n",
    "children_data.style.format({'mean': '{:.2%}'})"
   ]
  },
  {
   "cell_type": "markdown",
   "metadata": {},
   "source": [
    "<div class=\"alert alert-success\">\n",
    "<h2> Комментарий ревьюера </h2>\n",
    "\n",
    "Супер, молодец, что пользуешься `pivot_table`. Здесь можно было выполнить короче, для этого  в `aggfunc` задавай дополнительно `mean`\n",
    "\n",
    "</div>"
   ]
  },
  {
   "cell_type": "markdown",
   "metadata": {},
   "source": [
    "### Вывод"
   ]
  },
  {
   "cell_type": "markdown",
   "metadata": {},
   "source": [
    "Различия в % должников для клиентов имеющих и не имеющих детей составляет около 1.5%, поэтому нельзя сказать, что существует взаимосвязь между наличием детей и возвратом кредита в срок."
   ]
  },
  {
   "cell_type": "markdown",
   "metadata": {},
   "source": [
    "- Есть ли зависимость между семейным положением и возвратом кредита в срок?"
   ]
  },
  {
   "cell_type": "code",
   "execution_count": 93,
   "metadata": {},
   "outputs": [
    {
     "data": {
      "text/html": [
       "<style  type=\"text/css\" >\n",
       "</style><table id=\"T_1f6e0c06_3921_11eb_a5f4_acde48001122\" ><thead>    <tr>        <th class=\"blank level0\" ></th>        <th class=\"col_heading level0 col0\" >count</th>        <th class=\"col_heading level0 col1\" >mean</th>        <th class=\"col_heading level0 col2\" >sum</th>    </tr>    <tr>        <th class=\"index_name level0\" >family_status</th>        <th class=\"blank\" ></th>        <th class=\"blank\" ></th>        <th class=\"blank\" ></th>    </tr></thead><tbody>\n",
       "                <tr>\n",
       "                        <th id=\"T_1f6e0c06_3921_11eb_a5f4_acde48001122level0_row0\" class=\"row_heading level0 row0\" >Не женат / не замужем</th>\n",
       "                        <td id=\"T_1f6e0c06_3921_11eb_a5f4_acde48001122row0_col0\" class=\"data row0 col0\" >2801.000000</td>\n",
       "                        <td id=\"T_1f6e0c06_3921_11eb_a5f4_acde48001122row0_col1\" class=\"data row0 col1\" >9.75%</td>\n",
       "                        <td id=\"T_1f6e0c06_3921_11eb_a5f4_acde48001122row0_col2\" class=\"data row0 col2\" >273.000000</td>\n",
       "            </tr>\n",
       "            <tr>\n",
       "                        <th id=\"T_1f6e0c06_3921_11eb_a5f4_acde48001122level0_row1\" class=\"row_heading level0 row1\" >в разводе</th>\n",
       "                        <td id=\"T_1f6e0c06_3921_11eb_a5f4_acde48001122row1_col0\" class=\"data row1 col0\" >1193.000000</td>\n",
       "                        <td id=\"T_1f6e0c06_3921_11eb_a5f4_acde48001122row1_col1\" class=\"data row1 col1\" >7.04%</td>\n",
       "                        <td id=\"T_1f6e0c06_3921_11eb_a5f4_acde48001122row1_col2\" class=\"data row1 col2\" >84.000000</td>\n",
       "            </tr>\n",
       "            <tr>\n",
       "                        <th id=\"T_1f6e0c06_3921_11eb_a5f4_acde48001122level0_row2\" class=\"row_heading level0 row2\" >вдовец / вдова</th>\n",
       "                        <td id=\"T_1f6e0c06_3921_11eb_a5f4_acde48001122row2_col0\" class=\"data row2 col0\" >955.000000</td>\n",
       "                        <td id=\"T_1f6e0c06_3921_11eb_a5f4_acde48001122row2_col1\" class=\"data row2 col1\" >6.60%</td>\n",
       "                        <td id=\"T_1f6e0c06_3921_11eb_a5f4_acde48001122row2_col2\" class=\"data row2 col2\" >63.000000</td>\n",
       "            </tr>\n",
       "            <tr>\n",
       "                        <th id=\"T_1f6e0c06_3921_11eb_a5f4_acde48001122level0_row3\" class=\"row_heading level0 row3\" >гражданский брак</th>\n",
       "                        <td id=\"T_1f6e0c06_3921_11eb_a5f4_acde48001122row3_col0\" class=\"data row3 col0\" >4139.000000</td>\n",
       "                        <td id=\"T_1f6e0c06_3921_11eb_a5f4_acde48001122row3_col1\" class=\"data row3 col1\" >9.30%</td>\n",
       "                        <td id=\"T_1f6e0c06_3921_11eb_a5f4_acde48001122row3_col2\" class=\"data row3 col2\" >385.000000</td>\n",
       "            </tr>\n",
       "            <tr>\n",
       "                        <th id=\"T_1f6e0c06_3921_11eb_a5f4_acde48001122level0_row4\" class=\"row_heading level0 row4\" >женат / замужем</th>\n",
       "                        <td id=\"T_1f6e0c06_3921_11eb_a5f4_acde48001122row4_col0\" class=\"data row4 col0\" >12290.000000</td>\n",
       "                        <td id=\"T_1f6e0c06_3921_11eb_a5f4_acde48001122row4_col1\" class=\"data row4 col1\" >7.55%</td>\n",
       "                        <td id=\"T_1f6e0c06_3921_11eb_a5f4_acde48001122row4_col2\" class=\"data row4 col2\" >928.000000</td>\n",
       "            </tr>\n",
       "    </tbody></table>"
      ],
      "text/plain": [
       "<pandas.io.formats.style.Styler at 0x7f9b59246f90>"
      ]
     },
     "execution_count": 93,
     "metadata": {},
     "output_type": "execute_result"
    }
   ],
   "source": [
    "family_data = data.pivot_table(index = ['family_status'], values = 'debt', aggfunc = {'count','sum','mean'})\n",
    "family_data.style.format({'mean': '{:.2%}'})"
   ]
  },
  {
   "cell_type": "markdown",
   "metadata": {},
   "source": [
    "<div class=\"alert alert-success\">\n",
    "<h2> Комментарий ревьюера </h2>\n",
    "\n",
    "У тебя отличная работа!\n",
    "    \n",
    "Может тебе будет интересно: для улучшения визуализации датафрейма, можно пользоваться [style](https://pandas.pydata.org/pandas-docs/stable/user_guide/style.html) библиотеки `pandas`. Там много прикольных штук для того, чтобы сделать датафрейм красивее 😊\n",
    "Например, в нашем случае, чтобы выводить результат в процентах, а не в долях, можно прописать следующее:\n",
    "    \n",
    "`family_data.style.format({'debtors': '{:.2%}'})`  \n",
    "    \n",
    "</div>"
   ]
  },
  {
   "cell_type": "markdown",
   "metadata": {},
   "source": [
    "### Вывод"
   ]
  },
  {
   "cell_type": "markdown",
   "metadata": {},
   "source": [
    "Основываясь на полученных данных нельзя сказать, что есть зависимость между семейным положением и возвратом кредита в срок.\n",
    "\n",
    "Однако, можно сказать, что вдовцы\\вдовы, реже имеют задолженности перед банком, чем, например, не женатые\\не замужние. "
   ]
  },
  {
   "cell_type": "markdown",
   "metadata": {},
   "source": [
    "- Есть ли зависимость между уровнем дохода и возвратом кредита в срок?"
   ]
  },
  {
   "cell_type": "code",
   "execution_count": 95,
   "metadata": {},
   "outputs": [
    {
     "data": {
      "text/html": [
       "<style  type=\"text/css\" >\n",
       "</style><table id=\"T_2ded8ad6_3921_11eb_a5f4_acde48001122\" ><thead>    <tr>        <th class=\"blank level0\" ></th>        <th class=\"col_heading level0 col0\" >count</th>        <th class=\"col_heading level0 col1\" >mean</th>        <th class=\"col_heading level0 col2\" >sum</th>    </tr>    <tr>        <th class=\"index_name level0\" >income_cat</th>        <th class=\"blank\" ></th>        <th class=\"blank\" ></th>        <th class=\"blank\" ></th>    </tr></thead><tbody>\n",
       "                <tr>\n",
       "                        <th id=\"T_2ded8ad6_3921_11eb_a5f4_acde48001122level0_row0\" class=\"row_heading level0 row0\" >низкий</th>\n",
       "                        <td id=\"T_2ded8ad6_3921_11eb_a5f4_acde48001122row0_col0\" class=\"data row0 col0\" >7126.000000</td>\n",
       "                        <td id=\"T_2ded8ad6_3921_11eb_a5f4_acde48001122row0_col1\" class=\"data row0 col1\" >8.14%</td>\n",
       "                        <td id=\"T_2ded8ad6_3921_11eb_a5f4_acde48001122row0_col2\" class=\"data row0 col2\" >580.000000</td>\n",
       "            </tr>\n",
       "            <tr>\n",
       "                        <th id=\"T_2ded8ad6_3921_11eb_a5f4_acde48001122level0_row1\" class=\"row_heading level0 row1\" >средний</th>\n",
       "                        <td id=\"T_2ded8ad6_3921_11eb_a5f4_acde48001122row1_col0\" class=\"data row1 col0\" >7260.000000</td>\n",
       "                        <td id=\"T_2ded8ad6_3921_11eb_a5f4_acde48001122row1_col1\" class=\"data row1 col1\" >8.65%</td>\n",
       "                        <td id=\"T_2ded8ad6_3921_11eb_a5f4_acde48001122row1_col2\" class=\"data row1 col2\" >628.000000</td>\n",
       "            </tr>\n",
       "            <tr>\n",
       "                        <th id=\"T_2ded8ad6_3921_11eb_a5f4_acde48001122level0_row2\" class=\"row_heading level0 row2\" >высокий</th>\n",
       "                        <td id=\"T_2ded8ad6_3921_11eb_a5f4_acde48001122row2_col0\" class=\"data row2 col0\" >6992.000000</td>\n",
       "                        <td id=\"T_2ded8ad6_3921_11eb_a5f4_acde48001122row2_col1\" class=\"data row2 col1\" >7.51%</td>\n",
       "                        <td id=\"T_2ded8ad6_3921_11eb_a5f4_acde48001122row2_col2\" class=\"data row2 col2\" >525.000000</td>\n",
       "            </tr>\n",
       "    </tbody></table>"
      ],
      "text/plain": [
       "<pandas.io.formats.style.Styler at 0x7f9b599ea610>"
      ]
     },
     "execution_count": 95,
     "metadata": {},
     "output_type": "execute_result"
    }
   ],
   "source": [
    "income_data = data.pivot_table(index = ['income_cat'], values = 'debt', aggfunc = {'count','sum','mean'})\n",
    "income_data.style.format({'mean': '{:.2%}'})"
   ]
  },
  {
   "cell_type": "markdown",
   "metadata": {},
   "source": [
    "### Вывод"
   ]
  },
  {
   "cell_type": "markdown",
   "metadata": {},
   "source": [
    "Основываясь на полученных данных, нельзя сказать, что есть зависимость между уровнем дохода и возратом кредита в срок.\n",
    "\n",
    "Из полученных даных можно лишь сделать вывод, что % должников с высоким уровнем дохода меньше, чем % должников с низким и средним уровнями дохода."
   ]
  },
  {
   "cell_type": "markdown",
   "metadata": {},
   "source": [
    "- Как разные цели кредита влияют на его возврат в срок?"
   ]
  },
  {
   "cell_type": "code",
   "execution_count": 96,
   "metadata": {},
   "outputs": [
    {
     "data": {
      "text/html": [
       "<style  type=\"text/css\" >\n",
       "</style><table id=\"T_36323192_3921_11eb_a5f4_acde48001122\" ><thead>    <tr>        <th class=\"blank level0\" ></th>        <th class=\"col_heading level0 col0\" >count</th>        <th class=\"col_heading level0 col1\" >mean</th>        <th class=\"col_heading level0 col2\" >sum</th>    </tr>    <tr>        <th class=\"index_name level0\" >purpose_cat</th>        <th class=\"blank\" ></th>        <th class=\"blank\" ></th>        <th class=\"blank\" ></th>    </tr></thead><tbody>\n",
       "                <tr>\n",
       "                        <th id=\"T_36323192_3921_11eb_a5f4_acde48001122level0_row0\" class=\"row_heading level0 row0\" >автомобиль</th>\n",
       "                        <td id=\"T_36323192_3921_11eb_a5f4_acde48001122row0_col0\" class=\"data row0 col0\" >4290.000000</td>\n",
       "                        <td id=\"T_36323192_3921_11eb_a5f4_acde48001122row0_col1\" class=\"data row0 col1\" >9.35%</td>\n",
       "                        <td id=\"T_36323192_3921_11eb_a5f4_acde48001122row0_col2\" class=\"data row0 col2\" >401.000000</td>\n",
       "            </tr>\n",
       "            <tr>\n",
       "                        <th id=\"T_36323192_3921_11eb_a5f4_acde48001122level0_row1\" class=\"row_heading level0 row1\" >недвижимость</th>\n",
       "                        <td id=\"T_36323192_3921_11eb_a5f4_acde48001122row1_col0\" class=\"data row1 col0\" >10775.000000</td>\n",
       "                        <td id=\"T_36323192_3921_11eb_a5f4_acde48001122row1_col1\" class=\"data row1 col1\" >7.24%</td>\n",
       "                        <td id=\"T_36323192_3921_11eb_a5f4_acde48001122row1_col2\" class=\"data row1 col2\" >780.000000</td>\n",
       "            </tr>\n",
       "            <tr>\n",
       "                        <th id=\"T_36323192_3921_11eb_a5f4_acde48001122level0_row2\" class=\"row_heading level0 row2\" >образование</th>\n",
       "                        <td id=\"T_36323192_3921_11eb_a5f4_acde48001122row2_col0\" class=\"data row2 col0\" >3998.000000</td>\n",
       "                        <td id=\"T_36323192_3921_11eb_a5f4_acde48001122row2_col1\" class=\"data row2 col1\" >9.23%</td>\n",
       "                        <td id=\"T_36323192_3921_11eb_a5f4_acde48001122row2_col2\" class=\"data row2 col2\" >369.000000</td>\n",
       "            </tr>\n",
       "            <tr>\n",
       "                        <th id=\"T_36323192_3921_11eb_a5f4_acde48001122level0_row3\" class=\"row_heading level0 row3\" >свадьба</th>\n",
       "                        <td id=\"T_36323192_3921_11eb_a5f4_acde48001122row3_col0\" class=\"data row3 col0\" >2315.000000</td>\n",
       "                        <td id=\"T_36323192_3921_11eb_a5f4_acde48001122row3_col1\" class=\"data row3 col1\" >7.90%</td>\n",
       "                        <td id=\"T_36323192_3921_11eb_a5f4_acde48001122row3_col2\" class=\"data row3 col2\" >183.000000</td>\n",
       "            </tr>\n",
       "    </tbody></table>"
      ],
      "text/plain": [
       "<pandas.io.formats.style.Styler at 0x7f9b599f43d0>"
      ]
     },
     "execution_count": 96,
     "metadata": {},
     "output_type": "execute_result"
    }
   ],
   "source": [
    "purpose_data = data.pivot_table(index = ['purpose_cat'], values = 'debt', aggfunc = {'count','sum','mean'})\n",
    "purpose_data.style.format({'mean': '{:.2%}'})"
   ]
  },
  {
   "cell_type": "markdown",
   "metadata": {},
   "source": [
    "### Вывод"
   ]
  },
  {
   "cell_type": "markdown",
   "metadata": {},
   "source": [
    "Основываясь на полученных данных можно увидеть, что кредит на недвижимость чаще всего возвращается в срок.\n",
    "\n",
    "Следом за ним идет кредит на свадьбу.\n",
    "\n",
    "А вот выплаты по кредитам за автомобиль и образорвание чуть чаще задерживают."
   ]
  },
  {
   "cell_type": "markdown",
   "metadata": {},
   "source": [
    "### Шаг 4. Общий вывод"
   ]
  },
  {
   "cell_type": "markdown",
   "metadata": {},
   "source": [
    "Для того, чтобы ответить на вопросы, использовалось 99% предоставленных данных.\n",
    "\n",
    "В ходе предобработки были обнаружены (и удалены) дубликаты, исправлены \"артефактные\" значения. Пропуски были заменены на медианные значение по типу занятости.\n",
    "\n",
    "Все цели получения кредита были разбиты на 4 основные группы и данные категоризировались по этим 4 группам.\n",
    "\n",
    "Однако, по результатам полученным в ходе исследования, нельзя сказать, что наличие детей, семейное положение, уровень дохода и цель кредита значимо влияют на его возврат в срок.\n",
    "\n",
    "Однако, в качестве направления для исследования вижу возможность добавления образования для вычисления медианных значений для пропусков. \n",
    "Тогда, ввероятно, доходы у населения распределятся иначе и можно будет заметить более явное влияние. Так же бы не помешала консультация со стороны бизнеса о том, как категоризировать доходы населения ( какие считать низкими, а какие высокими)."
   ]
  },
  {
   "cell_type": "markdown",
   "metadata": {},
   "source": [
    "<div class=\"alert alert-success\">\n",
    "<h2> Комментарий ревьюера </h2>\n",
    "\n",
    "Хороший вывод, мне нравится\n",
    "    \n",
    "</div>"
   ]
  },
  {
   "cell_type": "markdown",
   "metadata": {},
   "source": [
    "### Вопросы"
   ]
  },
  {
   "cell_type": "markdown",
   "metadata": {},
   "source": [
    "При заполнении пропусков медианами я хотела рассчитывать её по следующим категориям: income_type, education.\n",
    "Однако,при таком подходе попадались группы, где 6 пропусков полагалось заполнить медианой, посчитанной на 2 значениях. То есть заполнть 75% данных медианой, посчитанной на 25%. Это меня смутило и в итоге заставило отказаться от такого подхода.\n",
    "\n",
    "Но хотелось бы узнать, когда группа, медианным значением которой я хочу заполнить пропуски, считается репрезентативной?"
   ]
  },
  {
   "cell_type": "markdown",
   "metadata": {},
   "source": [
    "<div class=\"alert alert-success\">\n",
    "<h2> Комментарий ревьюера </h2>\n",
    "\n",
    "Согласен, что считать медиану на двух значениях не совсем корректно. При этом какого-то конкретного ответа на твой вопрос нет, тут выбор остается за аналитиком. Я бы например объединил группы с небольшим количеством значений в одну и считал медиану по ним. \n",
    "    \n",
    "</div>"
   ]
  },
  {
   "cell_type": "markdown",
   "metadata": {},
   "source": [
    "### Чек-лист готовности проекта\n",
    "\n",
    "Поставьте 'x' в выполненных пунктах. Далее нажмите Shift+Enter."
   ]
  },
  {
   "cell_type": "markdown",
   "metadata": {},
   "source": [
    "- [x]  открыт файл;\n",
    "- [x]  файл изучен;\n",
    "- [x]  определены пропущенные значения;\n",
    "- [x]  заполнены пропущенные значения;\n",
    "- [x]  есть пояснение, какие пропущенные значения обнаружены;\n",
    "- [x]  описаны возможные причины появления пропусков в данных;\n",
    "- [x]  объяснено, по какому принципу заполнены пропуски;\n",
    "- [x]  заменен вещественный тип данных на целочисленный;\n",
    "- [x]  есть пояснение, какой метод используется для изменения типа данных и почему;\n",
    "- [x]  удалены дубликаты;\n",
    "- [x]  есть пояснение, какой метод используется для поиска и удаления дубликатов;\n",
    "- [x]  описаны возможные причины появления дубликатов в данных;\n",
    "- [x]  выделены леммы в значениях столбца с целями получения кредита;\n",
    "- [x]  описан процесс лемматизации;\n",
    "- [x]  данные категоризированы;\n",
    "- [x]  есть объяснение принципа категоризации данных;\n",
    "- [x]  есть ответ на вопрос: \"Есть ли зависимость между наличием детей и возвратом кредита в срок?\";\n",
    "- [x]  есть ответ на вопрос: \"Есть ли зависимость между семейным положением и возвратом кредита в срок?\";\n",
    "- [x]  есть ответ на вопрос: \"Есть ли зависимость между уровнем дохода и возвратом кредита в срок?\";\n",
    "- [x]  есть ответ на вопрос: \"Как разные цели кредита влияют на его возврат в срок?\";\n",
    "- [x]  в каждом этапе есть выводы;\n",
    "- [x]  есть общий вывод."
   ]
  },
  {
   "cell_type": "code",
   "execution_count": null,
   "metadata": {},
   "outputs": [],
   "source": []
  }
 ],
 "metadata": {
  "kernelspec": {
   "display_name": "Python 3",
   "language": "python",
   "name": "python3"
  },
  "language_info": {
   "codemirror_mode": {
    "name": "ipython",
    "version": 3
   },
   "file_extension": ".py",
   "mimetype": "text/x-python",
   "name": "python",
   "nbconvert_exporter": "python",
   "pygments_lexer": "ipython3",
   "version": "3.7.6"
  }
 },
 "nbformat": 4,
 "nbformat_minor": 4
}
